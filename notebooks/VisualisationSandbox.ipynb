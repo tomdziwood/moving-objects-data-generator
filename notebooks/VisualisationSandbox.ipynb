{
 "cells": [
  {
   "cell_type": "code",
   "execution_count": null,
   "id": "add040ee",
   "metadata": {},
   "outputs": [],
   "source": [
    "import numpy as np\n",
    "import pandas as pd"
   ]
  },
  {
   "cell_type": "code",
   "execution_count": null,
   "id": "e8baf628",
   "metadata": {},
   "outputs": [],
   "source": [
    "df = pd.read_csv(\n",
    "    \"..\\\\moving-object-data-generator\\\\scripts\\\\vectorized\\\\SpatioTemporalStandardGenerator_output_file.txt\",\n",
    "    sep=';',\n",
    "    header=None\n",
    ")\n",
    "\n",
    "df.head()"
   ]
  },
  {
   "cell_type": "code",
   "execution_count": null,
   "id": "25aeed37",
   "metadata": {},
   "outputs": [],
   "source": [
    "df.columns"
   ]
  },
  {
   "cell_type": "code",
   "execution_count": null,
   "id": "8868edd1",
   "metadata": {},
   "outputs": [],
   "source": [
    "df.columns = [\"time_frame\", \"feature_id\", \"feature_instance_id\", \"x\", \"y\"]"
   ]
  },
  {
   "cell_type": "code",
   "execution_count": null,
   "id": "ed422b6a",
   "metadata": {},
   "outputs": [],
   "source": [
    "df.columns"
   ]
  },
  {
   "cell_type": "code",
   "execution_count": null,
   "id": "a51b4a49",
   "metadata": {},
   "outputs": [],
   "source": [
    "df.head()"
   ]
  },
  {
   "cell_type": "code",
   "execution_count": null,
   "id": "ad70d468",
   "metadata": {},
   "outputs": [],
   "source": [
    "df.dtypes"
   ]
  },
  {
   "cell_type": "code",
   "execution_count": null,
   "id": "fa440c2d",
   "metadata": {},
   "outputs": [],
   "source": [
    "df.shape"
   ]
  },
  {
   "cell_type": "code",
   "execution_count": null,
   "id": "0e945357",
   "metadata": {},
   "outputs": [],
   "source": [
    "df.time_frame == 0"
   ]
  },
  {
   "cell_type": "code",
   "execution_count": null,
   "id": "818bcbdf",
   "metadata": {},
   "outputs": [],
   "source": [
    "df[df.time_frame == 0]"
   ]
  },
  {
   "cell_type": "code",
   "execution_count": null,
   "id": "63126ebf",
   "metadata": {},
   "outputs": [],
   "source": [
    "time_frames = df.time_frame.unique()\n",
    "sorted(time_frames)\n",
    "print(time_frames)\n",
    "print(type(time_frames))"
   ]
  },
  {
   "cell_type": "code",
   "execution_count": null,
   "id": "99739925",
   "metadata": {},
   "outputs": [],
   "source": [
    "time_frames.size"
   ]
  },
  {
   "cell_type": "code",
   "execution_count": null,
   "id": "585e48fd",
   "metadata": {},
   "outputs": [],
   "source": [
    "df_tmp = df[df.time_frame == 0]\n",
    "df_tmp"
   ]
  }
 ],
 "metadata": {
  "kernelspec": {
   "display_name": "Python 3 (ipykernel)",
   "language": "python",
   "name": "python3"
  },
  "language_info": {
   "codemirror_mode": {
    "name": "ipython",
    "version": 3
   },
   "file_extension": ".py",
   "mimetype": "text/x-python",
   "name": "python",
   "nbconvert_exporter": "python",
   "pygments_lexer": "ipython3",
   "version": "3.9.12"
  }
 },
 "nbformat": 4,
 "nbformat_minor": 5
}
