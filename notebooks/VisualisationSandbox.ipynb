{
 "cells": [
  {
   "cell_type": "code",
   "execution_count": null,
   "id": "0ef9f3bc",
   "metadata": {},
   "outputs": [],
   "source": [
    "import matplotlib.pyplot as plt\n",
    "import matplotlib.animation as plt_ani\n",
    "import numpy as np\n",
    "import pandas as pd"
   ]
  },
  {
   "cell_type": "code",
   "execution_count": null,
   "id": "e8baf628",
   "metadata": {},
   "outputs": [],
   "source": [
    "df = pd.read_csv(\n",
    "    \"..\\\\moving-objects-data-generator\\\\algorithms\\\\generator\\\\output\\\\SpatioTemporalStandardGenerator_output_file.txt\",\n",
    "    sep=';',\n",
    "    header=None,\n",
    "    comment=\"#\"\n",
    ")\n",
    "\n",
    "df.head()"
   ]
  },
  {
   "cell_type": "code",
   "execution_count": null,
   "id": "25aeed37",
   "metadata": {},
   "outputs": [],
   "source": [
    "df.columns"
   ]
  },
  {
   "cell_type": "code",
   "execution_count": null,
   "id": "8868edd1",
   "metadata": {},
   "outputs": [],
   "source": [
    "df.columns = [\"time_frame\", \"feature_id\", \"feature_instance_id\", \"x\", \"y\"]"
   ]
  },
  {
   "cell_type": "code",
   "execution_count": null,
   "id": "ed422b6a",
   "metadata": {},
   "outputs": [],
   "source": [
    "df.columns"
   ]
  },
  {
   "cell_type": "code",
   "execution_count": null,
   "id": "a51b4a49",
   "metadata": {},
   "outputs": [],
   "source": [
    "df.head()"
   ]
  },
  {
   "cell_type": "code",
   "execution_count": null,
   "id": "ad70d468",
   "metadata": {},
   "outputs": [],
   "source": [
    "df.dtypes"
   ]
  },
  {
   "cell_type": "code",
   "execution_count": null,
   "id": "fa440c2d",
   "metadata": {},
   "outputs": [],
   "source": [
    "df.shape"
   ]
  },
  {
   "cell_type": "code",
   "execution_count": null,
   "id": "0e945357",
   "metadata": {},
   "outputs": [],
   "source": [
    "df.time_frame == 0"
   ]
  },
  {
   "cell_type": "code",
   "execution_count": null,
   "id": "818bcbdf",
   "metadata": {},
   "outputs": [],
   "source": [
    "df[df.time_frame == 0]"
   ]
  },
  {
   "cell_type": "code",
   "execution_count": null,
   "id": "63126ebf",
   "metadata": {},
   "outputs": [],
   "source": [
    "time_frames = df.time_frame.unique()\n",
    "sorted(time_frames)\n",
    "print(time_frames)\n",
    "print(type(time_frames))"
   ]
  },
  {
   "cell_type": "code",
   "execution_count": null,
   "id": "99739925",
   "metadata": {},
   "outputs": [],
   "source": [
    "time_frames.size"
   ]
  },
  {
   "cell_type": "code",
   "execution_count": null,
   "id": "585e48fd",
   "metadata": {},
   "outputs": [],
   "source": [
    "df_tmp = df[df.time_frame == 0]\n",
    "df_tmp"
   ]
  },
  {
   "cell_type": "code",
   "execution_count": null,
   "id": "d25ddded",
   "metadata": {},
   "outputs": [],
   "source": [
    "[x for x in df_tmp.feature_id]"
   ]
  },
  {
   "cell_type": "code",
   "execution_count": null,
   "id": "fd2ed88b",
   "metadata": {},
   "outputs": [],
   "source": [
    "(xmin, ymin) = (df.x.min(), df.x.max())\n",
    "print(xmin)\n",
    "print(ymin)"
   ]
  },
  {
   "cell_type": "code",
   "execution_count": null,
   "id": "bb56a7ff",
   "metadata": {},
   "outputs": [],
   "source": [
    "np.int32(df.x.min(0)), np.int32(df.x.max(0) + 1)"
   ]
  },
  {
   "cell_type": "code",
   "execution_count": null,
   "id": "80122b74",
   "metadata": {
    "scrolled": true
   },
   "outputs": [],
   "source": [
    "fig, ax = plt.subplots()"
   ]
  },
  {
   "cell_type": "code",
   "execution_count": null,
   "id": "0f355736",
   "metadata": {},
   "outputs": [],
   "source": [
    "?ax.scatter"
   ]
  },
  {
   "cell_type": "code",
   "execution_count": null,
   "id": "7ba99f79",
   "metadata": {},
   "outputs": [],
   "source": [
    "?plt_ani.FuncAnimation"
   ]
  },
  {
   "cell_type": "code",
   "execution_count": null,
   "id": "c2c268c0",
   "metadata": {},
   "outputs": [],
   "source": [
    "?plt_ani.FuncAnimation.save"
   ]
  },
  {
   "cell_type": "code",
   "execution_count": null,
   "id": "614bedfc",
   "metadata": {},
   "outputs": [],
   "source": [
    "?plt_ani.PillowWriter"
   ]
  },
  {
   "cell_type": "code",
   "execution_count": null,
   "id": "b21e60a9",
   "metadata": {},
   "outputs": [],
   "source": [
    "df_sorted = df.sort_values(['feature_id', 'feature_instance_id', 'time_frame'])\n",
    "df_sorted.head(n=50)"
   ]
  },
  {
   "cell_type": "code",
   "execution_count": null,
   "id": "e5211855",
   "metadata": {},
   "outputs": [],
   "source": [
    "df_grouped = df_sorted.groupby(['feature_id', 'feature_instance_id'])"
   ]
  },
  {
   "cell_type": "code",
   "execution_count": null,
   "id": "b1b4bcd9",
   "metadata": {
    "scrolled": true
   },
   "outputs": [],
   "source": [
    "df_grouped.size()"
   ]
  },
  {
   "cell_type": "code",
   "execution_count": null,
   "id": "e0492a5b",
   "metadata": {},
   "outputs": [],
   "source": [
    "df_listed = df_grouped.agg({'x':lambda x: list(x), 'y':lambda x: list(x)})\n",
    "df_listed"
   ]
  },
  {
   "cell_type": "code",
   "execution_count": null,
   "id": "0e96ef64",
   "metadata": {
    "scrolled": true
   },
   "outputs": [],
   "source": [
    "print(df_listed.index)\n",
    "for index in df_listed.index:\n",
    "    print(\"row: %s\" % str(df_listed[index]))"
   ]
  },
  {
   "cell_type": "code",
   "execution_count": null,
   "id": "6f1e20d1",
   "metadata": {},
   "outputs": [],
   "source": [
    "for index, row in df_listed.iterrows():\n",
    "    print(\"row:\")\n",
    "    print(row)"
   ]
  },
  {
   "cell_type": "code",
   "execution_count": null,
   "id": "0454e8e7",
   "metadata": {
    "scrolled": true
   },
   "outputs": [],
   "source": [
    "df_listed\n",
    "df_listed_reset = df_listed.reset_index()\n",
    "\n",
    "for index, row in df_listed_reset.iterrows():\n",
    "    print(\"index:\")\n",
    "    print(index)\n",
    "    print(\"row:\")\n",
    "    print(row)\n",
    "    print(row.x)"
   ]
  },
  {
   "cell_type": "code",
   "execution_count": null,
   "id": "0332c346",
   "metadata": {},
   "outputs": [],
   "source": [
    "df_listed_reset"
   ]
  },
  {
   "cell_type": "code",
   "execution_count": null,
   "id": "44cb773f",
   "metadata": {},
   "outputs": [],
   "source": [
    "plt.get_cmap(\"gist_rainbow\")(0.5)"
   ]
  }
 ],
 "metadata": {
  "kernelspec": {
   "display_name": "Python 3 (ipykernel)",
   "language": "python",
   "name": "python3"
  },
  "language_info": {
   "codemirror_mode": {
    "name": "ipython",
    "version": 3
   },
   "file_extension": ".py",
   "mimetype": "text/x-python",
   "name": "python",
   "nbconvert_exporter": "python",
   "pygments_lexer": "ipython3",
   "version": "3.9.12"
  }
 },
 "nbformat": 4,
 "nbformat_minor": 5
}
