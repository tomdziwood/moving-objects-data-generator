{
 "cells": [
  {
   "cell_type": "code",
   "execution_count": null,
   "id": "9708b2c6",
   "metadata": {},
   "outputs": [],
   "source": [
    "import numpy as np\n",
    "import matplotlib.pyplot as plt\n",
    "from datetime import datetime\n",
    "import math\n",
    "\n",
    "np.set_printoptions(linewidth=np.inf)"
   ]
  },
  {
   "cell_type": "code",
   "execution_count": null,
   "id": "ea390c10",
   "metadata": {},
   "outputs": [],
   "source": [
    "a = np.arange(6)\n",
    "b = np.arange(14)\n",
    "print(a)\n",
    "print(b)"
   ]
  },
  {
   "cell_type": "code",
   "execution_count": null,
   "id": "3139c464",
   "metadata": {},
   "outputs": [],
   "source": [
    "c = np.concatenate((a, b))\n",
    "c"
   ]
  },
  {
   "cell_type": "code",
   "execution_count": null,
   "id": "49021848",
   "metadata": {},
   "outputs": [],
   "source": [
    "c[0] = 100\n",
    "c"
   ]
  },
  {
   "cell_type": "code",
   "execution_count": null,
   "id": "97881a47",
   "metadata": {},
   "outputs": [],
   "source": [
    "a"
   ]
  },
  {
   "cell_type": "code",
   "execution_count": null,
   "id": "a3e50a0e",
   "metadata": {},
   "outputs": [],
   "source": [
    "a = np.concatenate((a, b))\n",
    "a"
   ]
  },
  {
   "cell_type": "code",
   "execution_count": null,
   "id": "30aa3b77",
   "metadata": {},
   "outputs": [],
   "source": [
    "a.size"
   ]
  },
  {
   "cell_type": "code",
   "execution_count": null,
   "id": "ba7d06d6",
   "metadata": {},
   "outputs": [],
   "source": [
    "a = np.random.randint(21, size=10) - 10\n",
    "b = np.random.randint(21, size=10) - 10\n",
    "print(a)\n",
    "print(b)"
   ]
  },
  {
   "cell_type": "code",
   "execution_count": null,
   "id": "2d10d77d",
   "metadata": {},
   "outputs": [],
   "source": [
    "x = 0\n",
    "y = 0\n",
    "d = ((x - a) ** 2 + (y - b) ** 2) ** 0.5\n",
    "d"
   ]
  },
  {
   "cell_type": "code",
   "execution_count": null,
   "id": "48a7db69",
   "metadata": {},
   "outputs": [],
   "source": [
    "dx = (a - x).sum()\n",
    "dy = (b - y).sum()\n",
    "print((dx, dy))"
   ]
  },
  {
   "cell_type": "code",
   "execution_count": null,
   "id": "e51de979",
   "metadata": {},
   "outputs": [],
   "source": [
    "arr = np.empty(shape=(4, 5), dtype=np.float64)\n",
    "arr"
   ]
  },
  {
   "cell_type": "code",
   "execution_count": null,
   "id": "8e14f4df",
   "metadata": {},
   "outputs": [],
   "source": [
    "arr.size"
   ]
  },
  {
   "cell_type": "code",
   "execution_count": null,
   "id": "eaf2ef93",
   "metadata": {},
   "outputs": [],
   "source": [
    "arr[1, 3] = 123\n",
    "arr"
   ]
  },
  {
   "cell_type": "code",
   "execution_count": null,
   "id": "a27dd645",
   "metadata": {},
   "outputs": [],
   "source": [
    "arr[2] = np.arange(arr.shape[1])"
   ]
  },
  {
   "cell_type": "code",
   "execution_count": null,
   "id": "73aba6c5",
   "metadata": {},
   "outputs": [],
   "source": [
    "arr"
   ]
  },
  {
   "cell_type": "code",
   "execution_count": null,
   "id": "c70ecf65",
   "metadata": {},
   "outputs": [],
   "source": [
    "a = np.arange(10, dtype=np.int32)\n",
    "a"
   ]
  },
  {
   "cell_type": "code",
   "execution_count": null,
   "id": "70c63aa3",
   "metadata": {},
   "outputs": [],
   "source": [
    "b = np.tile(A=a, reps=(10, 1))\n",
    "b"
   ]
  },
  {
   "cell_type": "code",
   "execution_count": null,
   "id": "b9a65b7b",
   "metadata": {},
   "outputs": [],
   "source": [
    "b.T"
   ]
  },
  {
   "cell_type": "code",
   "execution_count": null,
   "id": "98876c86",
   "metadata": {},
   "outputs": [],
   "source": [
    "x = np.random.randint(1001, size=10)\n",
    "y = np.random.randint(1001, size=10)\n",
    "p = np.column_stack(tup=(x, y))\n",
    "add = np.sum(a=(p - p[6]) ** 2, axis=1)\n",
    "np.sqrt(add)"
   ]
  },
  {
   "cell_type": "code",
   "execution_count": null,
   "id": "514cdb9c",
   "metadata": {},
   "outputs": [],
   "source": [
    "x = np.random.randint(10, size=5)\n",
    "y = np.random.randint(10, size=5)\n",
    "print(x)\n",
    "print(y)\n",
    "# print(np.dot(a=x, b=y))\n",
    "print(np.dot(x, y))"
   ]
  },
  {
   "cell_type": "code",
   "execution_count": null,
   "id": "3b8e68f2",
   "metadata": {},
   "outputs": [],
   "source": [
    "p = np.column_stack(tup=(x, y))\n",
    "print(p)"
   ]
  },
  {
   "cell_type": "code",
   "execution_count": null,
   "id": "31b5ef9e",
   "metadata": {},
   "outputs": [],
   "source": [
    "print(np.dot(p[0], p[0]))\n",
    "print(np.dot(p[0], p[1]))\n",
    "print(np.dot(p[1], p[1]))\n",
    "print(np.dot(p[0], p[0]) - 2 * np.dot(p[0], p[1]) + np.dot(p[1], p[1]))"
   ]
  },
  {
   "cell_type": "code",
   "execution_count": null,
   "id": "e395ad5e",
   "metadata": {},
   "outputs": [],
   "source": [
    "print(np.dot(p[0], p[0]))\n",
    "# print(np.dot(p[0], p))\n",
    "print(np.dot(p, p))\n",
    "print(np.dot(p[0], p[0]) - 2 * np.dot(p[0], p) + np.dot(p, p))"
   ]
  },
  {
   "cell_type": "code",
   "execution_count": null,
   "id": "f221bf2a",
   "metadata": {},
   "outputs": [],
   "source": [
    "p[0] * p"
   ]
  },
  {
   "cell_type": "code",
   "execution_count": null,
   "id": "5ff8a4da",
   "metadata": {},
   "outputs": [],
   "source": [
    "p * p"
   ]
  },
  {
   "cell_type": "code",
   "execution_count": null,
   "id": "ebbdf998",
   "metadata": {},
   "outputs": [],
   "source": [
    "p[0] * p[0] - 2 * p[0] * p + p * p"
   ]
  },
  {
   "cell_type": "code",
   "execution_count": null,
   "id": "9aaa1029",
   "metadata": {},
   "outputs": [],
   "source": [
    "np.sum(p[0] * p[0] - 2 * p[0] * p + p * p, axis=1)"
   ]
  },
  {
   "cell_type": "code",
   "execution_count": null,
   "id": "d91da801",
   "metadata": {},
   "outputs": [],
   "source": [
    "a = np.arange(5)[:, None]\n",
    "print(a)\n",
    "print(a.shape)"
   ]
  },
  {
   "cell_type": "code",
   "execution_count": null,
   "id": "769a129e",
   "metadata": {},
   "outputs": [],
   "source": [
    "b = np.arange(10, 0, -2)[None, :]\n",
    "print(b)\n",
    "print(b.shape)"
   ]
  },
  {
   "cell_type": "code",
   "execution_count": null,
   "id": "778d0275",
   "metadata": {},
   "outputs": [],
   "source": [
    "a - b"
   ]
  },
  {
   "cell_type": "code",
   "execution_count": null,
   "id": "7151e690",
   "metadata": {},
   "outputs": [],
   "source": [
    "b - a"
   ]
  },
  {
   "cell_type": "code",
   "execution_count": null,
   "id": "431bf195",
   "metadata": {},
   "outputs": [],
   "source": [
    "a = np.arange(5)[:, None]\n",
    "print(a)\n",
    "print(a.shape)\n",
    "\n",
    "b = np.arange(5)[None, :]\n",
    "print(b)\n",
    "print(b.shape)\n",
    "\n",
    "print(a - b)\n",
    "print(b - a)"
   ]
  },
  {
   "cell_type": "code",
   "execution_count": null,
   "id": "05d2eb57",
   "metadata": {},
   "outputs": [],
   "source": [
    "(b - a).sum(axis=-1)"
   ]
  },
  {
   "cell_type": "code",
   "execution_count": null,
   "id": "9eaf67db",
   "metadata": {},
   "outputs": [],
   "source": [
    "x = np.random.randint(10, size=5)\n",
    "y = np.random.randint(10, size=5)\n",
    "p = np.column_stack(tup=(x, y))\n",
    "print(p)"
   ]
  },
  {
   "cell_type": "code",
   "execution_count": null,
   "id": "6e87658a",
   "metadata": {},
   "outputs": [],
   "source": [
    "d = np.sqrt((x[None, :] - x[:, None]) ** 2 + (y[None, :] - y[:, None]) ** 2)\n",
    "d"
   ]
  },
  {
   "cell_type": "code",
   "execution_count": null,
   "id": "5a68f784",
   "metadata": {},
   "outputs": [],
   "source": [
    "tmp = np.sum(p ** 2, axis=-1)\n",
    "tmp"
   ]
  },
  {
   "cell_type": "code",
   "execution_count": null,
   "id": "aeb8ced9",
   "metadata": {},
   "outputs": [],
   "source": [
    "tmp[:, None] + tmp[None, :]"
   ]
  },
  {
   "cell_type": "code",
   "execution_count": null,
   "id": "5c113f10",
   "metadata": {},
   "outputs": [],
   "source": [
    "p.dot(p.T)"
   ]
  },
  {
   "cell_type": "code",
   "execution_count": null,
   "id": "b025763a",
   "metadata": {
    "scrolled": true
   },
   "outputs": [],
   "source": [
    "np.sqrt(tmp[:, None] - 2 * p.dot(p.T) + tmp[None, :])"
   ]
  },
  {
   "cell_type": "code",
   "execution_count": null,
   "id": "20a4ea78",
   "metadata": {},
   "outputs": [],
   "source": [
    "np.triu_indices(n=5, k=1)"
   ]
  },
  {
   "cell_type": "code",
   "execution_count": null,
   "id": "af853315",
   "metadata": {},
   "outputs": [],
   "source": [
    "x = np.random.randint(10, size=5)\n",
    "y = np.random.randint(10, size=5)\n",
    "p = np.column_stack(tup=(x, y))\n",
    "print(p)\n",
    "f = np.random.randint(10, size=5) + 1\n",
    "print(f)"
   ]
  },
  {
   "cell_type": "code",
   "execution_count": null,
   "id": "860ea51a",
   "metadata": {},
   "outputs": [],
   "source": [
    "d = np.sqrt(x ** 2 + y ** 2)"
   ]
  },
  {
   "cell_type": "code",
   "execution_count": null,
   "id": "7b513d3a",
   "metadata": {},
   "outputs": [],
   "source": [
    "p / d[:, None]"
   ]
  },
  {
   "cell_type": "code",
   "execution_count": null,
   "id": "67cda305",
   "metadata": {},
   "outputs": [],
   "source": [
    "shape, scale = 2., 1.  # mean=shape * scale, var=shape * scale ** 2\n",
    "s = np.random.gamma(shape, scale, 1000)\n",
    "print(s.mean(), s.var())\n",
    "\n",
    "plt.hist(s, 50, density=True)\n",
    "plt.show()"
   ]
  },
  {
   "cell_type": "code",
   "execution_count": null,
   "id": "2170f6b2",
   "metadata": {},
   "outputs": [],
   "source": [
    "shape, scale = 1., 1.  # mean=shape * scale, var=shape * scale ** 2\n",
    "s = np.random.gamma(shape, scale, 10000)\n",
    "print(s.mean(), s.var())\n",
    "\n",
    "plt.hist(s, 500, density=True)\n",
    "plt.show()"
   ]
  },
  {
   "cell_type": "code",
   "execution_count": null,
   "id": "8bcf0985",
   "metadata": {},
   "outputs": [],
   "source": [
    "mu, sigma = 1., 1.\n",
    "s = np.random.normal(loc=mu, scale=sigma, size=1000)\n",
    "print(s.mean(), s.std())\n",
    "\n",
    "plt.hist(s, 50, density=True)\n",
    "plt.show()"
   ]
  },
  {
   "cell_type": "code",
   "execution_count": null,
   "id": "0220e33b",
   "metadata": {},
   "outputs": [],
   "source": [
    "mu = 1.\n",
    "s = np.random.normal(loc=mu, scale=mu / 3, size=1000)\n",
    "print(s.mean(), s.std())\n",
    "\n",
    "plt.hist(s, 50, density=True)\n",
    "plt.show()"
   ]
  },
  {
   "cell_type": "code",
   "execution_count": null,
   "id": "65623bc0",
   "metadata": {},
   "outputs": [],
   "source": [
    "a = np.random.randint(low=5, size=30)\n",
    "b = np.zeros_like(a)\n",
    "print(a)\n",
    "print(b)"
   ]
  },
  {
   "cell_type": "code",
   "execution_count": null,
   "id": "b92847a8",
   "metadata": {
    "scrolled": true
   },
   "outputs": [],
   "source": [
    "mu = np.random.gamma(shape=2, scale=1.0, size=5)\n",
    "mu[a]"
   ]
  },
  {
   "cell_type": "code",
   "execution_count": null,
   "id": "08903d2a",
   "metadata": {},
   "outputs": [],
   "source": [
    "s = np.random.normal(loc=mu[a], scale=mu[a] / 5, size=a.size)\n",
    "print(s.mean(), s.std())\n",
    "\n",
    "plt.hist(s, 50, density=True)\n",
    "plt.show()"
   ]
  },
  {
   "cell_type": "code",
   "execution_count": null,
   "id": "29ea5a96",
   "metadata": {},
   "outputs": [],
   "source": [
    "size = 1000\n",
    "a = np.random.randint(low=3, size=size)\n",
    "b = np.zeros_like(a)\n",
    "mu = np.random.gamma(shape=10, scale=1.0, size=3)\n",
    "print(mu)\n",
    "s = np.random.normal(loc=mu[a], scale=mu[a] / 5, size=size)\n",
    "print(s.mean(), s.std())\n",
    "\n",
    "plt.hist(s, 50, density=True)\n",
    "plt.show()"
   ]
  },
  {
   "cell_type": "code",
   "execution_count": null,
   "id": "fd006db7",
   "metadata": {},
   "outputs": [],
   "source": [
    "a = np.random.uniform(high=2 * np.pi, size=10)\n",
    "b = np.cos(a)\n",
    "print(a)\n",
    "print(b)"
   ]
  },
  {
   "cell_type": "code",
   "execution_count": null,
   "id": "11f34e45",
   "metadata": {},
   "outputs": [],
   "source": [
    "?np.sum"
   ]
  },
  {
   "cell_type": "code",
   "execution_count": null,
   "id": "80f87955",
   "metadata": {},
   "outputs": [],
   "source": [
    "now = datetime.now()\n",
    "now"
   ]
  },
  {
   "cell_type": "code",
   "execution_count": null,
   "id": "c8c32e57",
   "metadata": {},
   "outputs": [],
   "source": [
    "dt_string = now.strftime(\"%Y-%m-%d_%H.%M.%S,%f\")\n",
    "dt_string"
   ]
  },
  {
   "cell_type": "code",
   "execution_count": null,
   "id": "7136c9d9",
   "metadata": {},
   "outputs": [],
   "source": [
    "dt_string = now.strftime(\"%Y-%m-%d_%H,%M,%S.%f\")\n",
    "dt_string"
   ]
  },
  {
   "cell_type": "code",
   "execution_count": null,
   "id": "71a111a4",
   "metadata": {},
   "outputs": [],
   "source": [
    "dt_string = now.strftime(\"%Y-%m-%d_%H-%M-%S.%f\")\n",
    "dt_string"
   ]
  },
  {
   "cell_type": "code",
   "execution_count": null,
   "id": "bc7d4c5d",
   "metadata": {},
   "outputs": [],
   "source": [
    "dt_string = now.strftime(\"%Y-%m-%d_%H;%M;%S.%f\")\n",
    "dt_string"
   ]
  },
  {
   "cell_type": "code",
   "execution_count": null,
   "id": "ddb2f230",
   "metadata": {},
   "outputs": [],
   "source": [
    "dt_string = now.strftime(\"%Y-%m-%d_%H-%M-%S-%f\")\n",
    "dt_string"
   ]
  },
  {
   "cell_type": "code",
   "execution_count": null,
   "id": "fa916c6f",
   "metadata": {},
   "outputs": [],
   "source": [
    "dt_string = now.strftime(\"%Y-%m-%d_%H%M%S.%f\")\n",
    "dt_string"
   ]
  },
  {
   "cell_type": "code",
   "execution_count": null,
   "id": "37d24068",
   "metadata": {},
   "outputs": [],
   "source": [
    "a = \"file_name\"\n",
    "a += datetime.now().strftime(\"_%Y-%m-%d_%H%M%S.%f\")\n",
    "a"
   ]
  },
  {
   "cell_type": "code",
   "execution_count": null,
   "id": "6003d2ed",
   "metadata": {},
   "outputs": [],
   "source": [
    "a = \"text_file.txt\"\n",
    "idx = a.rfind('.')\n",
    "print(a[:idx])\n",
    "print(a[idx:])"
   ]
  },
  {
   "cell_type": "code",
   "execution_count": null,
   "id": "545c9a78",
   "metadata": {},
   "outputs": [],
   "source": [
    "a = \"text_file_txt\"\n",
    "idx = a.rfind('.')\n",
    "print(idx)\n",
    "print(a[:idx])\n",
    "print(a[idx:])"
   ]
  },
  {
   "cell_type": "code",
   "execution_count": null,
   "id": "9015f106",
   "metadata": {},
   "outputs": [],
   "source": [
    "input_filename=\"..\\\\oop\\\\SpatioTemporalGravitationApproachGenerator_output_file_2022-07-13_003806.652421.txt\"\n",
    "print(input_filename)"
   ]
  },
  {
   "cell_type": "code",
   "execution_count": null,
   "id": "3cf891a6",
   "metadata": {},
   "outputs": [],
   "source": [
    "print(input_filename[input_filename.rfind('\\\\') + 1:])"
   ]
  },
  {
   "cell_type": "code",
   "execution_count": null,
   "id": "ede5e807",
   "metadata": {},
   "outputs": [],
   "source": [
    "\"%03.dfps\" % (len(input_filename))"
   ]
  },
  {
   "cell_type": "code",
   "execution_count": null,
   "id": "be933495",
   "metadata": {},
   "outputs": [],
   "source": [
    "a = np.random.randint(5, size=10, dtype=np.int32)\n",
    "print(a)\n",
    "b = np.random.randint(5, size=10)\n",
    "print(b)"
   ]
  },
  {
   "cell_type": "code",
   "execution_count": null,
   "id": "c9eaca45",
   "metadata": {},
   "outputs": [],
   "source": [
    "a[:, None] - b[None, :]"
   ]
  },
  {
   "cell_type": "code",
   "execution_count": null,
   "id": "aa612950",
   "metadata": {},
   "outputs": [],
   "source": [
    "np.set_printoptions(linewidth=300)\n",
    "c = a[:, None] == b[None, :]\n",
    "c"
   ]
  },
  {
   "cell_type": "code",
   "execution_count": null,
   "id": "51532cea",
   "metadata": {},
   "outputs": [],
   "source": [
    "a.itemsize"
   ]
  },
  {
   "cell_type": "code",
   "execution_count": null,
   "id": "af695042",
   "metadata": {},
   "outputs": [],
   "source": [
    "c.itemsize"
   ]
  },
  {
   "cell_type": "code",
   "execution_count": null,
   "id": "0fad8335",
   "metadata": {},
   "outputs": [],
   "source": [
    "ind = np.random.randint(3, size=5)\n",
    "print(ind)\n",
    "a = -np.ones(shape=(5, 5), dtype=np.int32)\n",
    "print(a)"
   ]
  },
  {
   "cell_type": "code",
   "execution_count": null,
   "id": "d9ece228",
   "metadata": {},
   "outputs": [],
   "source": [
    "a[ind[:, None] == ind[None, :]] = 1\n",
    "a"
   ]
  },
  {
   "cell_type": "code",
   "execution_count": null,
   "id": "1281d0a4",
   "metadata": {},
   "outputs": [],
   "source": [
    "a = np.random.randint(2, size=(4, 4))\n",
    "a"
   ]
  },
  {
   "cell_type": "code",
   "execution_count": null,
   "id": "77ba0de9",
   "metadata": {},
   "outputs": [],
   "source": [
    "b = np.random.randint(4, size=7)\n",
    "b"
   ]
  },
  {
   "cell_type": "code",
   "execution_count": null,
   "id": "8d077f54",
   "metadata": {},
   "outputs": [],
   "source": [
    "c = np.zeros(shape=(10, 10), dtype=np.int32)\n",
    "c"
   ]
  },
  {
   "cell_type": "code",
   "execution_count": null,
   "id": "ec317aed",
   "metadata": {},
   "outputs": [],
   "source": [
    "c[:7, :7] = a[b[:, None], b[None, :]]\n",
    "c"
   ]
  },
  {
   "cell_type": "code",
   "execution_count": null,
   "id": "4f1c6116",
   "metadata": {},
   "outputs": [],
   "source": [
    "d = np.array([0, 2, 5, 6])\n",
    "c[d[:, None], d[None, :]] = -999\n",
    "c"
   ]
  },
  {
   "cell_type": "code",
   "execution_count": null,
   "id": "25b1709e",
   "metadata": {},
   "outputs": [],
   "source": [
    "c[7:] = -9\n",
    "c[:7, 7:] = -9\n",
    "c"
   ]
  },
  {
   "cell_type": "code",
   "execution_count": null,
   "id": "84b980ec",
   "metadata": {},
   "outputs": [],
   "source": [
    "b[:, None] == b[None, :]"
   ]
  },
  {
   "cell_type": "code",
   "execution_count": null,
   "id": "9f5e0e7c",
   "metadata": {},
   "outputs": [],
   "source": [
    "?np.random.uniform"
   ]
  },
  {
   "cell_type": "code",
   "execution_count": null,
   "id": "ca20054d",
   "metadata": {},
   "outputs": [],
   "source": [
    "a = np.array([0, 0, 0, 1, 1, 1, 1, 2, 2, 3, 4, 5])\n",
    "b = np.random.randint(low=2, size=a.size)\n",
    "print(a)\n",
    "print(b)"
   ]
  },
  {
   "cell_type": "code",
   "execution_count": null,
   "id": "e6a63e20",
   "metadata": {},
   "outputs": [],
   "source": [
    "c = a[b == 0]\n",
    "print(c)"
   ]
  },
  {
   "cell_type": "code",
   "execution_count": null,
   "id": "98d0ce82",
   "metadata": {},
   "outputs": [],
   "source": [
    "d = np.unique(ar=c)\n",
    "print(d)"
   ]
  },
  {
   "cell_type": "code",
   "execution_count": null,
   "id": "166cefa2",
   "metadata": {},
   "outputs": [],
   "source": [
    "np.repeat(a=np.arange(3), repeats=10)"
   ]
  },
  {
   "cell_type": "code",
   "execution_count": null,
   "id": "a63a8d18",
   "metadata": {},
   "outputs": [],
   "source": [
    "a = np.random.random(size=(3, 5))\n",
    "a"
   ]
  },
  {
   "cell_type": "code",
   "execution_count": null,
   "id": "9ad1ca89",
   "metadata": {},
   "outputs": [],
   "source": [
    "np.random.randint(low=10, size=a.shape)"
   ]
  },
  {
   "cell_type": "code",
   "execution_count": null,
   "id": "ac158e19",
   "metadata": {},
   "outputs": [],
   "source": [
    "a = np.arange(1, 21)\n",
    "b = np.random.uniform(low=-a, high=a)\n",
    "print(b)"
   ]
  },
  {
   "cell_type": "code",
   "execution_count": null,
   "id": "ffd78865",
   "metadata": {},
   "outputs": [],
   "source": [
    "b > 5\n",
    "b"
   ]
  },
  {
   "cell_type": "code",
   "execution_count": null,
   "id": "740b14d4",
   "metadata": {},
   "outputs": [],
   "source": [
    "c = np.logical_or(b > 5, b < -5)\n",
    "c"
   ]
  },
  {
   "cell_type": "code",
   "execution_count": null,
   "id": "e0a566fa",
   "metadata": {},
   "outputs": [],
   "source": [
    "d = np.nonzero(c)\n",
    "print(d)\n",
    "print(d[0].size)"
   ]
  },
  {
   "cell_type": "code",
   "execution_count": null,
   "id": "c4683777",
   "metadata": {},
   "outputs": [],
   "source": [
    "print(c[d])\n",
    "print(b[d])"
   ]
  },
  {
   "cell_type": "code",
   "execution_count": null,
   "id": "575220ac",
   "metadata": {},
   "outputs": [],
   "source": [
    "thresh = 0.6\n",
    "arr = np.random.randint(low=5, high=30, size=10)\n",
    "print(arr)"
   ]
  },
  {
   "cell_type": "code",
   "execution_count": null,
   "id": "14665088",
   "metadata": {},
   "outputs": [],
   "source": [
    "arr_thresh = arr * thresh\n",
    "print(arr_thresh)"
   ]
  },
  {
   "cell_type": "code",
   "execution_count": null,
   "id": "246ad19d",
   "metadata": {},
   "outputs": [],
   "source": [
    "np.ceil(arr_thresh).astype(np.int32)"
   ]
  },
  {
   "cell_type": "code",
   "execution_count": null,
   "id": "a1d84cec",
   "metadata": {},
   "outputs": [],
   "source": [
    "a = np.random.randint(10, size=10)\n",
    "b = np.random.randint(low=40, high=50, size=10)\n",
    "print(a)\n",
    "print(b)"
   ]
  },
  {
   "cell_type": "code",
   "execution_count": null,
   "id": "0e3526e8",
   "metadata": {},
   "outputs": [],
   "source": [
    "np.random.randint(low=a, high=b)"
   ]
  },
  {
   "cell_type": "code",
   "execution_count": null,
   "id": "9be915b1",
   "metadata": {},
   "outputs": [],
   "source": [
    "np.random.randint(low=30, high=b)"
   ]
  },
  {
   "cell_type": "code",
   "execution_count": null,
   "id": "1e3f09d2",
   "metadata": {},
   "outputs": [],
   "source": [
    "limit = 6\n",
    "cond = np.random.randint(low=2, size=limit, dtype=bool)\n",
    "cond"
   ]
  },
  {
   "cell_type": "code",
   "execution_count": null,
   "id": "44e7f3ef",
   "metadata": {},
   "outputs": [],
   "source": [
    "a[:limit][cond] = b[:limit][cond]\n",
    "print(a)"
   ]
  },
  {
   "cell_type": "code",
   "execution_count": null,
   "id": "880c7639",
   "metadata": {},
   "outputs": [],
   "source": [
    "size = 5\n",
    "sizes = np.random.randint(low=2, high=10, size=size)\n",
    "sizes"
   ]
  },
  {
   "cell_type": "code",
   "execution_count": null,
   "id": "6aa36447",
   "metadata": {},
   "outputs": [],
   "source": [
    "sizes_cumsum = np.cumsum(a=sizes)\n",
    "sizes_cumsum"
   ]
  },
  {
   "cell_type": "code",
   "execution_count": null,
   "id": "995d667c",
   "metadata": {},
   "outputs": [],
   "source": [
    "ind_begin = np.concatenate(([0], sizes_cumsum[:-1]))\n",
    "print(ind_begin)"
   ]
  },
  {
   "cell_type": "code",
   "execution_count": null,
   "id": "93777302",
   "metadata": {},
   "outputs": [],
   "source": [
    "shuffled_values = np.repeat(a=sizes - sizes_cumsum, repeats=sizes) + np.arange(sizes_cumsum[-1])\n",
    "print(shuffled_values)"
   ]
  },
  {
   "cell_type": "code",
   "execution_count": null,
   "id": "880751f8",
   "metadata": {},
   "outputs": [],
   "source": [
    "[np.random.shuffle(shuffled_values[ind_begin[i]:sizes_cumsum[i]]) for i in range(size)]\n",
    "print(shuffled_values)"
   ]
  },
  {
   "cell_type": "code",
   "execution_count": null,
   "id": "6d488406",
   "metadata": {},
   "outputs": [],
   "source": [
    "a = np.arange(5)\n",
    "print(a)\n",
    "np.random.shuffle(a)\n",
    "print(a)"
   ]
  },
  {
   "cell_type": "code",
   "execution_count": null,
   "id": "4629969f",
   "metadata": {},
   "outputs": [],
   "source": [
    "np.random.permutation(5) + 1"
   ]
  },
  {
   "cell_type": "code",
   "execution_count": null,
   "id": "a4c9bd82",
   "metadata": {},
   "outputs": [],
   "source": [
    "np.random.randint(2, size=10, dtype=bool)"
   ]
  },
  {
   "cell_type": "code",
   "execution_count": null,
   "id": "8b7ccc37",
   "metadata": {},
   "outputs": [],
   "source": [
    "a = np.random.randint(low=5, size=(5, 2))\n",
    "print(a)\n",
    "rep = np.random.randint(low=1, high=5, size=5)\n",
    "print(rep)"
   ]
  },
  {
   "cell_type": "code",
   "execution_count": null,
   "id": "768c9f21",
   "metadata": {
    "scrolled": false
   },
   "outputs": [],
   "source": [
    "np.repeat(a=a, repeats=rep, axis=0)"
   ]
  },
  {
   "cell_type": "code",
   "execution_count": null,
   "id": "72922d02",
   "metadata": {},
   "outputs": [],
   "source": [
    "np.arange(8)"
   ]
  },
  {
   "cell_type": "code",
   "execution_count": null,
   "id": "fc7285d5",
   "metadata": {},
   "outputs": [],
   "source": [
    "np.add.reduceat(np.arange(8),[0,4, 1,5, 2,6, 3,7])"
   ]
  },
  {
   "cell_type": "code",
   "execution_count": null,
   "id": "ea36b5ce",
   "metadata": {},
   "outputs": [],
   "source": [
    "a = np.arange(5)\n",
    "print(a)\n",
    "rep = np.random.randint(low=2, high=5, size=5)\n",
    "print(rep)\n",
    "repeated = np.repeat(a=a, repeats=rep)\n",
    "print(repeated)\n",
    "values = np.random.randint(5, size=repeated.size)\n",
    "print(values)"
   ]
  },
  {
   "cell_type": "code",
   "execution_count": null,
   "id": "d9cbbb05",
   "metadata": {},
   "outputs": [],
   "source": [
    "rep.cumsum()"
   ]
  },
  {
   "cell_type": "code",
   "execution_count": null,
   "id": "6819372f",
   "metadata": {},
   "outputs": [],
   "source": [
    "slice_ind = np.concatenate(([0], rep.cumsum()[:-1]))\n",
    "print(slice_ind)"
   ]
  },
  {
   "cell_type": "code",
   "execution_count": null,
   "id": "70fb4d9f",
   "metadata": {},
   "outputs": [],
   "source": [
    "sums = np.add.reduceat(array=values, indices=slice_ind)\n",
    "print(sums)"
   ]
  },
  {
   "cell_type": "code",
   "execution_count": null,
   "id": "6640201e",
   "metadata": {},
   "outputs": [],
   "source": [
    "values_2d = np.random.randint(5, size=(repeated.size, 2))\n",
    "print(values_2d)"
   ]
  },
  {
   "cell_type": "code",
   "execution_count": null,
   "id": "abbf1dac",
   "metadata": {},
   "outputs": [],
   "source": [
    "sums_2d = np.add.reduceat(array=values_2d, indices=slice_ind, axis=0)\n",
    "print(sums_2d)"
   ]
  },
  {
   "cell_type": "code",
   "execution_count": null,
   "id": "f17180a3",
   "metadata": {},
   "outputs": [],
   "source": [
    "a = np.random.randint(10, size=(3, 5))\n",
    "print(a)"
   ]
  },
  {
   "cell_type": "code",
   "execution_count": null,
   "id": "321c4c13",
   "metadata": {},
   "outputs": [],
   "source": [
    "np.cumsum(a, axis=0)"
   ]
  },
  {
   "cell_type": "code",
   "execution_count": null,
   "id": "6be01140",
   "metadata": {},
   "outputs": [],
   "source": [
    "a[::-1]"
   ]
  },
  {
   "cell_type": "code",
   "execution_count": null,
   "id": "530cc284",
   "metadata": {},
   "outputs": [],
   "source": [
    "np.cumsum(a[::-1], axis=0)"
   ]
  },
  {
   "cell_type": "code",
   "execution_count": null,
   "id": "c4220c3a",
   "metadata": {},
   "outputs": [],
   "source": [
    "np.cumsum(a[::-1], axis=0)[::-1]"
   ]
  },
  {
   "cell_type": "code",
   "execution_count": null,
   "id": "349e92d4",
   "metadata": {},
   "outputs": [],
   "source": [
    "a = np.random.randint(5, size=5)\n",
    "print(a)\n",
    "b = np.random.randint(5, size=(3, 5))\n",
    "print(b)"
   ]
  },
  {
   "cell_type": "code",
   "execution_count": null,
   "id": "b46f1ee1",
   "metadata": {},
   "outputs": [],
   "source": [
    "a[None, :] -= b\n",
    "print(a)"
   ]
  },
  {
   "cell_type": "code",
   "execution_count": null,
   "id": "d9433c7f",
   "metadata": {},
   "outputs": [],
   "source": [
    "a = np.random.uniform(high=100, size=10)\n",
    "print(a)\n",
    "cond = np.random.randint(low=2, size=10, dtype=bool)\n",
    "print(cond)\n",
    "a *= cond\n",
    "print(a)"
   ]
  },
  {
   "cell_type": "code",
   "execution_count": null,
   "id": "6e2e53d7",
   "metadata": {},
   "outputs": [],
   "source": [
    "a = np.arange(5)\n",
    "print(a)\n",
    "rep = np.random.randint(low=2, high=5, size=5)\n",
    "print(rep)\n",
    "repeated = np.repeat(a=a, repeats=rep)\n",
    "print(repeated)\n",
    "flag = repeated[None, :] == repeated[:, None]\n",
    "print(flag)"
   ]
  },
  {
   "cell_type": "code",
   "execution_count": null,
   "id": "45e54f23",
   "metadata": {},
   "outputs": [],
   "source": [
    "limit = 5.0\n",
    "v = np.random.uniform(low=-8, high=8, size=(10, 2))\n",
    "v_limited = np.copy(v)\n",
    "v_limited[v_limited > limit] = limit\n",
    "v_limited[v_limited < -limit] = -limit\n",
    "\n",
    "print(v)\n",
    "print(v_limited)"
   ]
  },
  {
   "cell_type": "code",
   "execution_count": null,
   "id": "6ac9274f",
   "metadata": {},
   "outputs": [],
   "source": [
    "a = np.random.uniform(low=-10, high=10, size=(10, 2))\n",
    "print(a)"
   ]
  },
  {
   "cell_type": "code",
   "execution_count": null,
   "id": "17b18a7a",
   "metadata": {},
   "outputs": [],
   "source": [
    "b = np.reshape(a=a, newshape=(2, 10))\n",
    "print(b)"
   ]
  },
  {
   "cell_type": "code",
   "execution_count": null,
   "id": "6775e485",
   "metadata": {},
   "outputs": [],
   "source": [
    "b = a.T\n",
    "print(b)"
   ]
  },
  {
   "cell_type": "code",
   "execution_count": null,
   "id": "9d38d6ca",
   "metadata": {},
   "outputs": [],
   "source": [
    "b[0, :] = 10\n",
    "print(a)"
   ]
  },
  {
   "cell_type": "code",
   "execution_count": null,
   "id": "5515743f",
   "metadata": {},
   "outputs": [],
   "source": [
    "a = np.random.randint(low=10, size=10)\n",
    "print(a)\n",
    "b = a[None, :] - a[:, None]\n",
    "print(b)\n",
    "print(np.sum(b, axis=1))"
   ]
  },
  {
   "cell_type": "code",
   "execution_count": null,
   "id": "f442f97f",
   "metadata": {},
   "outputs": [],
   "source": [
    "c = a[:, None] - a[None, :]\n",
    "print(c)\n",
    "print(np.sum(c, axis=0))"
   ]
  },
  {
   "cell_type": "code",
   "execution_count": null,
   "id": "3f028752",
   "metadata": {},
   "outputs": [],
   "source": [
    "np.random.seed(4)\n",
    "length = np.random.choice(a=np.arange(2, 7), size=3, replace=False)\n",
    "print(length)\n",
    "count = np.random.randint(low=2, high=5, size=3)\n",
    "print(count)\n",
    "rep = np.concatenate((np.repeat(a=length, repeats=count), np.ones(5, dtype=np.int32)))\n",
    "print(rep)\n",
    "prevalent = np.random.randint(low=2, size=count.sum(), dtype=bool)\n",
    "print(prevalent)\n",
    "print()\n",
    "\n",
    "prevalent = np.concatenate((prevalent, np.ones(5, dtype=bool)))\n",
    "print(prevalent)\n",
    "extend_rep = np.copy(rep)\n",
    "print(extend_rep)\n",
    "extend_rep[prevalent] = 1\n",
    "print(extend_rep)\n",
    "print()\n",
    "\n",
    "rep[np.logical_not(prevalent)] = 1\n",
    "print(rep)\n",
    "rep = np.repeat(a=rep, repeats=extend_rep)\n",
    "print(rep)\n",
    "print(rep.size)"
   ]
  },
  {
   "cell_type": "code",
   "execution_count": null,
   "id": "6801924e",
   "metadata": {},
   "outputs": [],
   "source": [
    "a = np.arange(5)\n",
    "print(a)\n",
    "count = np.random.randint(low=2, high=5, size=5)\n",
    "print(count)\n",
    "rep = np.repeat(a=a, repeats=count)\n",
    "print(rep)\n",
    "val = np.random.randint(low=20, high=50, size=5)\n",
    "print(val)\n",
    "val_rep = val[rep]\n",
    "print(val_rep)"
   ]
  },
  {
   "cell_type": "code",
   "execution_count": null,
   "id": "01f08dc0",
   "metadata": {},
   "outputs": [],
   "source": [
    "size = 4\n",
    "repeats = np.random.randint(low=2, high=7, size=size)\n",
    "print(repeats)\n",
    "ids = np.repeat(a=np.arange(14, 14 + size), repeats=repeats)\n",
    "print(ids)\n",
    "coor = np.random.uniform(high=1000.0, size=(ids.size, 2))\n",
    "print(coor)"
   ]
  },
  {
   "cell_type": "code",
   "execution_count": null,
   "id": "913703b9",
   "metadata": {},
   "outputs": [],
   "source": [
    "unq, invers_ids, counts = np.unique(ids, return_inverse=True, return_counts=True)\n",
    "print(unq)\n",
    "print(invers_ids)\n",
    "print(counts)"
   ]
  },
  {
   "cell_type": "code",
   "execution_count": null,
   "id": "eb5671c0",
   "metadata": {},
   "outputs": [],
   "source": [
    "np.bincount(invers_ids, coor[:, 0]) / counts"
   ]
  },
  {
   "cell_type": "code",
   "execution_count": null,
   "id": "8fbbb499",
   "metadata": {},
   "outputs": [],
   "source": [
    "np.random.seed(0)\n",
    "m_clumpy = 3\n",
    "col_length = np.array([2, 3])\n",
    "col_counts = np.array([5, 4])\n",
    "ndf = 1\n",
    "ndfn = 3\n",
    "clumpy_colloc_instances_sum = 7\n",
    "clumpy_ids = np.array([0, 0, 0, 0, 0, 0, 1, 1, 1, 1, 2, 2, 2, 2, 2, 2, 2, 2, 2, 3, 3, 3, 4, 5, 6])\n",
    "prev = np.repeat(a=np.random.randint(2, size=9, dtype=bool), repeats=(np.repeat(a=col_length, repeats=col_counts)))\n",
    "prev = np.concatenate((prev, np.ones(ndfn, dtype=np.int32)))\n",
    "not_prev = np.logical_not(prev)\n",
    "print(not_prev)\n",
    "new_ind_sum = not_prev.sum()\n",
    "print(new_ind_sum)\n",
    "clumpy_ids[not_prev] = np.arange(clumpy_colloc_instances_sum, clumpy_colloc_instances_sum + new_ind_sum)\n",
    "print(clumpy_ids)"
   ]
  },
  {
   "cell_type": "code",
   "execution_count": null,
   "id": "d44ecbf3",
   "metadata": {},
   "outputs": [],
   "source": [
    "coor = np.random.uniform(high=1000.0, size=(clumpy_ids.size, 2))\n",
    "print(coor)\n",
    "unq, invers_ids, counts = np.unique(clumpy_ids, return_inverse=True, return_counts=True)\n",
    "print(unq)\n",
    "print(invers_ids)\n",
    "print(counts)\n",
    "average = np.bincount(invers_ids, coor[:, 0]) / counts\n",
    "print(average)\n",
    "average = np.bincount(invers_ids, coor[:, 0]) / counts\n",
    "print(average[invers_ids])"
   ]
  },
  {
   "cell_type": "code",
   "execution_count": null,
   "id": "5f65230e",
   "metadata": {},
   "outputs": [],
   "source": [
    "unq, index, invers_ids, counts = np.unique(clumpy_ids, return_index=True, return_inverse=True, return_counts=True)\n",
    "print(unq)\n",
    "print(index)\n",
    "print(invers_ids)\n",
    "print(counts)"
   ]
  },
  {
   "cell_type": "code",
   "execution_count": null,
   "id": "fe7ce03a",
   "metadata": {},
   "outputs": [],
   "source": [
    "# np.random.seed(0)\n",
    "a = np.random.randint(10, size=5)\n",
    "print(a)\n",
    "# np.random.seed(0)\n",
    "b = np.random.randint(10, size=5)\n",
    "print(b)\n",
    "print(a == b)\n",
    "print((a == b).all())"
   ]
  }
 ],
 "metadata": {
  "kernelspec": {
   "display_name": "Python 3 (ipykernel)",
   "language": "python",
   "name": "python3"
  },
  "language_info": {
   "codemirror_mode": {
    "name": "ipython",
    "version": 3
   },
   "file_extension": ".py",
   "mimetype": "text/x-python",
   "name": "python",
   "nbconvert_exporter": "python",
   "pygments_lexer": "ipython3",
   "version": "3.9.12"
  }
 },
 "nbformat": 4,
 "nbformat_minor": 5
}
