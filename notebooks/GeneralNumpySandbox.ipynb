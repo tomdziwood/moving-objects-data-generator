{
 "cells": [
  {
   "cell_type": "code",
   "execution_count": null,
   "id": "9708b2c6",
   "metadata": {},
   "outputs": [],
   "source": [
    "import numpy as np\n",
    "import matplotlib.pyplot as plt"
   ]
  },
  {
   "cell_type": "code",
   "execution_count": null,
   "id": "ea390c10",
   "metadata": {},
   "outputs": [],
   "source": [
    "a = np.arange(6)\n",
    "b = np.arange(14)\n",
    "print(a)\n",
    "print(b)"
   ]
  },
  {
   "cell_type": "code",
   "execution_count": null,
   "id": "3139c464",
   "metadata": {},
   "outputs": [],
   "source": [
    "c = np.concatenate((a, b))\n",
    "c"
   ]
  },
  {
   "cell_type": "code",
   "execution_count": null,
   "id": "49021848",
   "metadata": {},
   "outputs": [],
   "source": [
    "c[0] = 100\n",
    "c"
   ]
  },
  {
   "cell_type": "code",
   "execution_count": null,
   "id": "97881a47",
   "metadata": {},
   "outputs": [],
   "source": [
    "a"
   ]
  },
  {
   "cell_type": "code",
   "execution_count": null,
   "id": "a3e50a0e",
   "metadata": {},
   "outputs": [],
   "source": [
    "a = np.concatenate((a, b))\n",
    "a"
   ]
  },
  {
   "cell_type": "code",
   "execution_count": null,
   "id": "30aa3b77",
   "metadata": {},
   "outputs": [],
   "source": [
    "a.size"
   ]
  },
  {
   "cell_type": "code",
   "execution_count": null,
   "id": "ba7d06d6",
   "metadata": {},
   "outputs": [],
   "source": [
    "a = np.random.randint(21, size=10) - 10\n",
    "b = np.random.randint(21, size=10) - 10\n",
    "print(a)\n",
    "print(b)"
   ]
  },
  {
   "cell_type": "code",
   "execution_count": null,
   "id": "2d10d77d",
   "metadata": {},
   "outputs": [],
   "source": [
    "x = 0\n",
    "y = 0\n",
    "d = ((x - a) ** 2 + (y - b) ** 2) ** 0.5\n",
    "d"
   ]
  },
  {
   "cell_type": "code",
   "execution_count": null,
   "id": "48a7db69",
   "metadata": {},
   "outputs": [],
   "source": [
    "dx = (a - x).sum()\n",
    "dy = (b - y).sum()\n",
    "print((dx, dy))"
   ]
  },
  {
   "cell_type": "code",
   "execution_count": null,
   "id": "e51de979",
   "metadata": {},
   "outputs": [],
   "source": [
    "arr = np.empty(shape=(4, 5), dtype=np.float64)\n",
    "arr"
   ]
  },
  {
   "cell_type": "code",
   "execution_count": null,
   "id": "8e14f4df",
   "metadata": {},
   "outputs": [],
   "source": [
    "arr.size"
   ]
  },
  {
   "cell_type": "code",
   "execution_count": null,
   "id": "eaf2ef93",
   "metadata": {},
   "outputs": [],
   "source": [
    "arr[1, 3] = 123\n",
    "arr"
   ]
  },
  {
   "cell_type": "code",
   "execution_count": null,
   "id": "a27dd645",
   "metadata": {},
   "outputs": [],
   "source": [
    "arr[2] = np.arange(arr.shape[1])"
   ]
  },
  {
   "cell_type": "code",
   "execution_count": null,
   "id": "73aba6c5",
   "metadata": {},
   "outputs": [],
   "source": [
    "arr"
   ]
  },
  {
   "cell_type": "code",
   "execution_count": null,
   "id": "c70ecf65",
   "metadata": {},
   "outputs": [],
   "source": [
    "a = np.arange(10, dtype=np.int32)\n",
    "a"
   ]
  },
  {
   "cell_type": "code",
   "execution_count": null,
   "id": "70c63aa3",
   "metadata": {},
   "outputs": [],
   "source": [
    "b = np.tile(A=a, reps=(10, 1))\n",
    "b"
   ]
  },
  {
   "cell_type": "code",
   "execution_count": null,
   "id": "b9a65b7b",
   "metadata": {},
   "outputs": [],
   "source": [
    "b.T"
   ]
  },
  {
   "cell_type": "code",
   "execution_count": null,
   "id": "98876c86",
   "metadata": {},
   "outputs": [],
   "source": [
    "x = np.random.randint(1001, size=10)\n",
    "y = np.random.randint(1001, size=10)\n",
    "p = np.column_stack(tup=(x, y))\n",
    "add = np.sum(a=(p - p[6]) ** 2, axis=1)\n",
    "np.sqrt(add)"
   ]
  },
  {
   "cell_type": "code",
   "execution_count": null,
   "id": "514cdb9c",
   "metadata": {},
   "outputs": [],
   "source": [
    "x = np.random.randint(10, size=5)\n",
    "y = np.random.randint(10, size=5)\n",
    "print(x)\n",
    "print(y)\n",
    "# print(np.dot(a=x, b=y))\n",
    "print(np.dot(x, y))"
   ]
  },
  {
   "cell_type": "code",
   "execution_count": null,
   "id": "3b8e68f2",
   "metadata": {},
   "outputs": [],
   "source": [
    "p = np.column_stack(tup=(x, y))\n",
    "print(p)"
   ]
  },
  {
   "cell_type": "code",
   "execution_count": null,
   "id": "31b5ef9e",
   "metadata": {},
   "outputs": [],
   "source": [
    "print(np.dot(p[0], p[0]))\n",
    "print(np.dot(p[0], p[1]))\n",
    "print(np.dot(p[1], p[1]))\n",
    "print(np.dot(p[0], p[0]) - 2 * np.dot(p[0], p[1]) + np.dot(p[1], p[1]))"
   ]
  },
  {
   "cell_type": "code",
   "execution_count": null,
   "id": "e395ad5e",
   "metadata": {},
   "outputs": [],
   "source": [
    "print(np.dot(p[0], p[0]))\n",
    "# print(np.dot(p[0], p))\n",
    "print(np.dot(p, p))\n",
    "print(np.dot(p[0], p[0]) - 2 * np.dot(p[0], p) + np.dot(p, p))"
   ]
  },
  {
   "cell_type": "code",
   "execution_count": null,
   "id": "f221bf2a",
   "metadata": {},
   "outputs": [],
   "source": [
    "p[0] * p"
   ]
  },
  {
   "cell_type": "code",
   "execution_count": null,
   "id": "5ff8a4da",
   "metadata": {},
   "outputs": [],
   "source": [
    "p * p"
   ]
  },
  {
   "cell_type": "code",
   "execution_count": null,
   "id": "ebbdf998",
   "metadata": {},
   "outputs": [],
   "source": [
    "p[0] * p[0] - 2 * p[0] * p + p * p"
   ]
  },
  {
   "cell_type": "code",
   "execution_count": null,
   "id": "9aaa1029",
   "metadata": {},
   "outputs": [],
   "source": [
    "np.sum(p[0] * p[0] - 2 * p[0] * p + p * p, axis=1)"
   ]
  },
  {
   "cell_type": "code",
   "execution_count": null,
   "id": "d91da801",
   "metadata": {},
   "outputs": [],
   "source": [
    "a = np.arange(5)[:, None]\n",
    "print(a)\n",
    "print(a.shape)"
   ]
  },
  {
   "cell_type": "code",
   "execution_count": null,
   "id": "769a129e",
   "metadata": {},
   "outputs": [],
   "source": [
    "b = np.arange(10, 0, -2)[None, :]\n",
    "print(b)\n",
    "print(b.shape)"
   ]
  },
  {
   "cell_type": "code",
   "execution_count": null,
   "id": "778d0275",
   "metadata": {},
   "outputs": [],
   "source": [
    "a - b"
   ]
  },
  {
   "cell_type": "code",
   "execution_count": null,
   "id": "7151e690",
   "metadata": {},
   "outputs": [],
   "source": [
    "b - a"
   ]
  },
  {
   "cell_type": "code",
   "execution_count": null,
   "id": "431bf195",
   "metadata": {},
   "outputs": [],
   "source": [
    "a = np.arange(5)[:, None]\n",
    "print(a)\n",
    "print(a.shape)\n",
    "\n",
    "b = np.arange(5)[None, :]\n",
    "print(b)\n",
    "print(b.shape)\n",
    "\n",
    "print(a - b)\n",
    "print(b - a)"
   ]
  },
  {
   "cell_type": "code",
   "execution_count": null,
   "id": "05d2eb57",
   "metadata": {},
   "outputs": [],
   "source": [
    "(b - a).sum(axis=-1)"
   ]
  },
  {
   "cell_type": "code",
   "execution_count": null,
   "id": "9eaf67db",
   "metadata": {},
   "outputs": [],
   "source": [
    "x = np.random.randint(10, size=5)\n",
    "y = np.random.randint(10, size=5)\n",
    "p = np.column_stack(tup=(x, y))\n",
    "print(p)"
   ]
  },
  {
   "cell_type": "code",
   "execution_count": null,
   "id": "6e87658a",
   "metadata": {},
   "outputs": [],
   "source": [
    "d = np.sqrt((x[None, :] - x[:, None]) ** 2 + (y[None, :] - y[:, None]) ** 2)\n",
    "d"
   ]
  },
  {
   "cell_type": "code",
   "execution_count": null,
   "id": "5a68f784",
   "metadata": {},
   "outputs": [],
   "source": [
    "tmp = np.sum(p ** 2, axis=-1)\n",
    "tmp"
   ]
  },
  {
   "cell_type": "code",
   "execution_count": null,
   "id": "aeb8ced9",
   "metadata": {},
   "outputs": [],
   "source": [
    "tmp[:, None] + tmp[None, :]"
   ]
  },
  {
   "cell_type": "code",
   "execution_count": null,
   "id": "5c113f10",
   "metadata": {},
   "outputs": [],
   "source": [
    "p.dot(p.T)"
   ]
  },
  {
   "cell_type": "code",
   "execution_count": null,
   "id": "b025763a",
   "metadata": {
    "scrolled": true
   },
   "outputs": [],
   "source": [
    "np.sqrt(tmp[:, None] - 2 * p.dot(p.T) + tmp[None, :])"
   ]
  },
  {
   "cell_type": "code",
   "execution_count": null,
   "id": "20a4ea78",
   "metadata": {},
   "outputs": [],
   "source": [
    "np.triu_indices(n=5, k=1)"
   ]
  },
  {
   "cell_type": "code",
   "execution_count": null,
   "id": "af853315",
   "metadata": {},
   "outputs": [],
   "source": [
    "x = np.random.randint(10, size=5)\n",
    "y = np.random.randint(10, size=5)\n",
    "p = np.column_stack(tup=(x, y))\n",
    "print(p)\n",
    "f = np.random.randint(10, size=5) + 1\n",
    "print(f)"
   ]
  },
  {
   "cell_type": "code",
   "execution_count": null,
   "id": "860ea51a",
   "metadata": {},
   "outputs": [],
   "source": [
    "d = np.sqrt(x ** 2 + y ** 2)"
   ]
  },
  {
   "cell_type": "code",
   "execution_count": null,
   "id": "7b513d3a",
   "metadata": {},
   "outputs": [],
   "source": [
    "p / d[:, None]"
   ]
  },
  {
   "cell_type": "code",
   "execution_count": null,
   "id": "67cda305",
   "metadata": {},
   "outputs": [],
   "source": [
    "shape, scale = 2., 1.  # mean=shape * scale, var=shape * scale ** 2\n",
    "s = np.random.gamma(shape, scale, 1000)\n",
    "print(s.mean(), s.var())\n",
    "\n",
    "plt.hist(s, 50, density=True)\n",
    "plt.show()"
   ]
  },
  {
   "cell_type": "code",
   "execution_count": null,
   "id": "2170f6b2",
   "metadata": {},
   "outputs": [],
   "source": [
    "shape, scale = 1., 1.  # mean=shape * scale, var=shape * scale ** 2\n",
    "s = np.random.gamma(shape, scale, 10000)\n",
    "print(s.mean(), s.var())\n",
    "\n",
    "plt.hist(s, 500, density=True)\n",
    "plt.show()"
   ]
  },
  {
   "cell_type": "code",
   "execution_count": null,
   "id": "8bcf0985",
   "metadata": {},
   "outputs": [],
   "source": [
    "mu, sigma = 1., 1.\n",
    "s = np.random.normal(loc=mu, scale=sigma, size=1000)\n",
    "print(s.mean(), s.std())\n",
    "\n",
    "plt.hist(s, 50, density=True)\n",
    "plt.show()"
   ]
  },
  {
   "cell_type": "code",
   "execution_count": null,
   "id": "0220e33b",
   "metadata": {},
   "outputs": [],
   "source": [
    "mu = 1.\n",
    "s = np.random.normal(loc=mu, scale=mu / 3, size=1000)\n",
    "print(s.mean(), s.std())\n",
    "\n",
    "plt.hist(s, 50, density=True)\n",
    "plt.show()"
   ]
  },
  {
   "cell_type": "code",
   "execution_count": null,
   "id": "65623bc0",
   "metadata": {},
   "outputs": [],
   "source": [
    "a = np.random.randint(low=5, size=30)\n",
    "b = np.zeros_like(a)\n",
    "print(a)\n",
    "print(b)"
   ]
  },
  {
   "cell_type": "code",
   "execution_count": null,
   "id": "b92847a8",
   "metadata": {
    "scrolled": true
   },
   "outputs": [],
   "source": [
    "mu = np.random.gamma(shape=2, scale=1.0, size=5)\n",
    "mu[a]"
   ]
  },
  {
   "cell_type": "code",
   "execution_count": null,
   "id": "08903d2a",
   "metadata": {},
   "outputs": [],
   "source": [
    "s = np.random.normal(loc=mu[a], scale=mu[a] / 5, size=a.size)\n",
    "print(s.mean(), s.std())\n",
    "\n",
    "plt.hist(s, 50, density=True)\n",
    "plt.show()"
   ]
  },
  {
   "cell_type": "code",
   "execution_count": null,
   "id": "29ea5a96",
   "metadata": {},
   "outputs": [],
   "source": [
    "size = 1000\n",
    "a = np.random.randint(low=3, size=size)\n",
    "b = np.zeros_like(a)\n",
    "mu = np.random.gamma(shape=10, scale=1.0, size=3)\n",
    "print(mu)\n",
    "s = np.random.normal(loc=mu[a], scale=mu[a] / 5, size=size)\n",
    "print(s.mean(), s.std())\n",
    "\n",
    "plt.hist(s, 50, density=True)\n",
    "plt.show()"
   ]
  },
  {
   "cell_type": "code",
   "execution_count": null,
   "id": "fd006db7",
   "metadata": {},
   "outputs": [],
   "source": []
  }
 ],
 "metadata": {
  "kernelspec": {
   "display_name": "Python 3 (ipykernel)",
   "language": "python",
   "name": "python3"
  },
  "language_info": {
   "codemirror_mode": {
    "name": "ipython",
    "version": 3
   },
   "file_extension": ".py",
   "mimetype": "text/x-python",
   "name": "python",
   "nbconvert_exporter": "python",
   "pygments_lexer": "ipython3",
   "version": "3.9.12"
  }
 },
 "nbformat": 4,
 "nbformat_minor": 5
}
