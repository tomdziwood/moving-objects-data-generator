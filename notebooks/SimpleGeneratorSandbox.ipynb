{
 "cells": [
  {
   "cell_type": "code",
   "execution_count": null,
   "id": "640c7882",
   "metadata": {},
   "outputs": [],
   "source": [
    "import numpy as np"
   ]
  },
  {
   "cell_type": "code",
   "execution_count": null,
   "id": "a4350779",
   "metadata": {},
   "outputs": [],
   "source": [
    "area_in_cell_dim = 200\n",
    "\n",
    "cell_x_id_array = np.random.randint(area_in_cell_dim, size=15)"
   ]
  },
  {
   "cell_type": "code",
   "execution_count": null,
   "id": "52a0f473",
   "metadata": {},
   "outputs": [],
   "source": [
    "np.repeat(a=cell_x_id_array, repeats=7)"
   ]
  },
  {
   "cell_type": "code",
   "execution_count": null,
   "id": "f8a018d5",
   "metadata": {},
   "outputs": [],
   "source": [
    "instance_x = cell_x_id_array * 5\n",
    "instance_x = np.repeat(a=instance_x, repeats=7)\n",
    "instance_x"
   ]
  },
  {
   "cell_type": "code",
   "execution_count": null,
   "id": "34c4db04",
   "metadata": {},
   "outputs": [],
   "source": [
    "instance_x.shape"
   ]
  },
  {
   "cell_type": "code",
   "execution_count": null,
   "id": "51b9e175",
   "metadata": {},
   "outputs": [],
   "source": [
    "np.random.uniform(high=5, size=10)"
   ]
  },
  {
   "cell_type": "code",
   "execution_count": null,
   "id": "2f609a01",
   "metadata": {},
   "outputs": [],
   "source": [
    "np.random.randint(low=4.3242, size=10)"
   ]
  },
  {
   "cell_type": "code",
   "execution_count": null,
   "id": "2d8a8703",
   "metadata": {},
   "outputs": [],
   "source": [
    "type(instance_x.dtype)"
   ]
  },
  {
   "cell_type": "code",
   "execution_count": null,
   "id": "da230e86",
   "metadata": {},
   "outputs": [],
   "source": [
    "instance_x.dtype"
   ]
  },
  {
   "cell_type": "code",
   "execution_count": null,
   "id": "3cf581d2",
   "metadata": {},
   "outputs": [],
   "source": [
    "(cell_x_id_array * 5.4).dtype"
   ]
  },
  {
   "cell_type": "code",
   "execution_count": null,
   "id": "3fd0c395",
   "metadata": {},
   "outputs": [],
   "source": [
    "np.repeat(a=np.arange(10), repeats=6)"
   ]
  },
  {
   "cell_type": "code",
   "execution_count": null,
   "id": "67071d63",
   "metadata": {},
   "outputs": [],
   "source": [
    "np.tile(A=np.arange(10), reps=6)"
   ]
  },
  {
   "cell_type": "code",
   "execution_count": null,
   "id": "85d535e8",
   "metadata": {},
   "outputs": [],
   "source": [
    "a = np.arange(10)\n",
    "b = a.repeat(5)\n",
    "print(a)\n",
    "print(b)"
   ]
  },
  {
   "cell_type": "code",
   "execution_count": null,
   "id": "0e464765",
   "metadata": {},
   "outputs": [],
   "source": [
    "a = np.arange(start=0, stop=10)\n",
    "b = np.arange(start=50, stop=60)\n",
    "c = np.arange(start=100, stop=110)"
   ]
  },
  {
   "cell_type": "code",
   "execution_count": null,
   "id": "0302d536",
   "metadata": {},
   "outputs": [],
   "source": [
    "np.stack(arrays=(a, b, c), axis=-1)"
   ]
  },
  {
   "cell_type": "code",
   "execution_count": null,
   "id": "fad19771",
   "metadata": {},
   "outputs": [],
   "source": [
    "np.stack(arrays=(a, b, c)).T"
   ]
  },
  {
   "cell_type": "code",
   "execution_count": null,
   "id": "b66b973a",
   "metadata": {},
   "outputs": [],
   "source": [
    "np.column_stack(tup=(a, b, c))"
   ]
  },
  {
   "cell_type": "code",
   "execution_count": null,
   "id": "bc6babb1",
   "metadata": {},
   "outputs": [],
   "source": [
    "stacked = np.column_stack(tup=(a, b, c))\n",
    "print(stacked)\n",
    "np.savetxt(fname=\"test.txt\", X=stacked, fmt=['%d', '%d', '%.6f'])"
   ]
  },
  {
   "cell_type": "code",
   "execution_count": null,
   "id": "72571bab",
   "metadata": {},
   "outputs": [],
   "source": [
    "a = np.arange(start=0, stop=10)\n",
    "b = np.arange(start=50, stop=60)\n",
    "c = np.arange(start=100, stop=110, dtype=np.float64)\n",
    "stacked = np.column_stack(tup=(a, b, c))\n",
    "print(stacked)\n",
    "np.savetxt(fname=\"test.txt\", X=stacked, fmt=['%d', '%d', '%.6f'])"
   ]
  },
  {
   "cell_type": "code",
   "execution_count": null,
   "id": "ce2b283a",
   "metadata": {},
   "outputs": [],
   "source": [
    "fmt = ' '.join(['%g']*stacked.shape[1])\n",
    "fmt"
   ]
  },
  {
   "cell_type": "code",
   "execution_count": null,
   "id": "56d16d6c",
   "metadata": {},
   "outputs": [],
   "source": [
    "fmt = '%d %d %.6f\\n'*stacked.shape[0]\n",
    "fmt"
   ]
  },
  {
   "cell_type": "code",
   "execution_count": null,
   "id": "f7f95c84",
   "metadata": {},
   "outputs": [],
   "source": [
    "fmt % tuple(stacked.ravel())"
   ]
  },
  {
   "cell_type": "code",
   "execution_count": null,
   "id": "358d9548",
   "metadata": {},
   "outputs": [],
   "source": [
    "['%d %d %.6f'] * stacked.shape[0]"
   ]
  },
  {
   "cell_type": "code",
   "execution_count": null,
   "id": "6e17b642",
   "metadata": {},
   "outputs": [],
   "source": [
    "a = np.arange(100, 110)\n",
    "b = np.array([2, 4, 9])\n",
    "a[b]"
   ]
  },
  {
   "cell_type": "code",
   "execution_count": null,
   "id": "6dfedf06",
   "metadata": {},
   "outputs": [],
   "source": [
    "x = np.random.uniform(high=100, size=20)\n",
    "x"
   ]
  },
  {
   "cell_type": "code",
   "execution_count": null,
   "id": "3843b428",
   "metadata": {},
   "outputs": [],
   "source": [
    "x.dtype"
   ]
  },
  {
   "cell_type": "code",
   "execution_count": null,
   "id": "a7306181",
   "metadata": {},
   "outputs": [],
   "source": [
    "y = x.astype(np.float64)\n",
    "y"
   ]
  },
  {
   "cell_type": "code",
   "execution_count": null,
   "id": "7b46c759",
   "metadata": {},
   "outputs": [],
   "source": [
    "y.dtype"
   ]
  },
  {
   "cell_type": "code",
   "execution_count": null,
   "id": "af0f9a15",
   "metadata": {},
   "outputs": [],
   "source": [
    "number = np.array([2, 5, 3, 7])\n",
    "start = np.array([100, 50, 5, 150])"
   ]
  },
  {
   "cell_type": "code",
   "execution_count": null,
   "id": "102dc42d",
   "metadata": {},
   "outputs": [],
   "source": [
    "a = np.arange(start=start, stop=start+number)\n",
    "a"
   ]
  },
  {
   "cell_type": "code",
   "execution_count": null,
   "id": "0bcde0d4",
   "metadata": {},
   "outputs": [],
   "source": [
    "start + number"
   ]
  },
  {
   "cell_type": "code",
   "execution_count": null,
   "id": "aa54b611",
   "metadata": {},
   "outputs": [],
   "source": [
    "a = np.arange(start=0, stop=10)\n",
    "b = np.arange(start=50, stop=55)\n",
    "c = np.arange(start=100, stop=120)\n",
    "arrays = [a, b, c]\n",
    "arrays"
   ]
  },
  {
   "cell_type": "code",
   "execution_count": null,
   "id": "d6b71ec3",
   "metadata": {},
   "outputs": [],
   "source": [
    "np.concatenate(arrays)"
   ]
  },
  {
   "cell_type": "code",
   "execution_count": null,
   "id": "f2a87190",
   "metadata": {},
   "outputs": [],
   "source": [
    "start = np.array([0, 50, 100])\n",
    "length = np.array([10, 5, 20])\n",
    "start, length"
   ]
  },
  {
   "cell_type": "code",
   "execution_count": null,
   "id": "1b2dcfa1",
   "metadata": {},
   "outputs": [],
   "source": [
    "length.cumsum()"
   ]
  },
  {
   "cell_type": "code",
   "execution_count": null,
   "id": "2b9b8321",
   "metadata": {},
   "outputs": [],
   "source": [
    "start + length - length.cumsum()"
   ]
  },
  {
   "cell_type": "code",
   "execution_count": null,
   "id": "f8b29a43",
   "metadata": {},
   "outputs": [],
   "source": [
    "np.repeat(start + length - length.cumsum(), length)"
   ]
  },
  {
   "cell_type": "code",
   "execution_count": null,
   "id": "986a672a",
   "metadata": {},
   "outputs": [],
   "source": [
    "np.arange(length.sum())"
   ]
  },
  {
   "cell_type": "code",
   "execution_count": null,
   "id": "9216d916",
   "metadata": {},
   "outputs": [],
   "source": [
    "np.repeat(start + length - length.cumsum(), length) + np.arange(length.sum())"
   ]
  },
  {
   "cell_type": "code",
   "execution_count": null,
   "id": "68ecc625",
   "metadata": {},
   "outputs": [],
   "source": []
  },
  {
   "cell_type": "code",
   "execution_count": null,
   "id": "0f8403b3",
   "metadata": {},
   "outputs": [],
   "source": [
    "x = np.array([])\n",
    "x"
   ]
  },
  {
   "cell_type": "code",
   "execution_count": null,
   "id": "dc25bc47",
   "metadata": {},
   "outputs": [],
   "source": [
    "def f(x):\n",
    "    print(x)\n",
    "    x[4] = 999\n",
    "    print(x)"
   ]
  },
  {
   "cell_type": "code",
   "execution_count": null,
   "id": "931a1b2d",
   "metadata": {},
   "outputs": [],
   "source": [
    "a = np.arange(10)\n",
    "print(a)\n",
    "print(\"funkcja\")\n",
    "f(a)\n",
    "print(\"po funkcji\")\n",
    "print(a)"
   ]
  },
  {
   "cell_type": "code",
   "execution_count": null,
   "id": "233e968f",
   "metadata": {},
   "outputs": [],
   "source": [
    "x = np.zeros(2, dtype=np.int32)\n",
    "x"
   ]
  },
  {
   "cell_type": "code",
   "execution_count": null,
   "id": "a1f1e407",
   "metadata": {},
   "outputs": [],
   "source": [
    "x[1] += 1\n",
    "x[0] += 1\n",
    "x[1] += 1\n",
    "x"
   ]
  },
  {
   "cell_type": "code",
   "execution_count": null,
   "id": "a6b5a68d",
   "metadata": {},
   "outputs": [],
   "source": [
    "a = np.array([1, 2, 6, 3, 2, 4, 6, 2, 3, 4, 6, 3, 2, 5, 2, 3, 1, 5, 3])\n",
    "np.unique(ar=a, return_index=True, return_inverse=True, return_counts=True)"
   ]
  },
  {
   "cell_type": "code",
   "execution_count": null,
   "id": "0762d216",
   "metadata": {},
   "outputs": [],
   "source": [
    "a = np.array([1, 2, 6, 3, 2, 4, 6, 2, 3, 4, 6, 3, 2, 5, 2, 3, 1, 5, 3])\n",
    "np.unique(ar=a, return_counts=True)"
   ]
  },
  {
   "cell_type": "code",
   "execution_count": null,
   "id": "88ef3971",
   "metadata": {},
   "outputs": [],
   "source": [
    "(unique, counts) = np.unique(ar=a, return_counts=True)\n",
    "counts"
   ]
  },
  {
   "cell_type": "code",
   "execution_count": null,
   "id": "585ac9be",
   "metadata": {},
   "outputs": [],
   "source": [
    "ndf = 4\n",
    "ndfn = 30\n",
    "last_colloc_id = 10\n",
    "additional_noise_feature = np.random.randint(low=ndf, size=ndfn) + last_colloc_id\n",
    "additional_noise_feature"
   ]
  },
  {
   "cell_type": "code",
   "execution_count": null,
   "id": "67bb3953",
   "metadata": {},
   "outputs": [],
   "source": [
    "(unique, counts) = np.unique(ar=additional_noise_feature, return_counts=True)\n",
    "counts"
   ]
  },
  {
   "cell_type": "code",
   "execution_count": null,
   "id": "fbd49da5",
   "metadata": {},
   "outputs": [],
   "source": [
    "x = np.repeat(counts - counts.cumsum(), counts) + np.arange(counts.sum())\n",
    "x"
   ]
  },
  {
   "cell_type": "code",
   "execution_count": null,
   "id": "f5621346",
   "metadata": {},
   "outputs": [],
   "source": [
    "x"
   ]
  },
  {
   "cell_type": "code",
   "execution_count": null,
   "id": "76d6014d",
   "metadata": {},
   "outputs": [],
   "source": [
    "np.random.shuffle(x)"
   ]
  },
  {
   "cell_type": "code",
   "execution_count": null,
   "id": "af7087f3",
   "metadata": {},
   "outputs": [],
   "source": [
    "a = np.repeat(unique, counts)\n",
    "a"
   ]
  },
  {
   "cell_type": "code",
   "execution_count": null,
   "id": "109f1632",
   "metadata": {},
   "outputs": [],
   "source": [
    "xa = np.column_stack(tup=(x, a))\n",
    "xa"
   ]
  },
  {
   "cell_type": "code",
   "execution_count": null,
   "id": "771f6492",
   "metadata": {},
   "outputs": [],
   "source": [
    "np.random.shuffle(xa)\n",
    "xa"
   ]
  },
  {
   "cell_type": "code",
   "execution_count": null,
   "id": "f3af87e4",
   "metadata": {},
   "outputs": [],
   "source": [
    "?np.random.randint"
   ]
  },
  {
   "cell_type": "code",
   "execution_count": null,
   "id": "58651089",
   "metadata": {},
   "outputs": [],
   "source": [
    "?np.random.uniform"
   ]
  },
  {
   "cell_type": "code",
   "execution_count": null,
   "id": "a9ce96f0",
   "metadata": {},
   "outputs": [],
   "source": [
    "np.random.uniform(size=10)"
   ]
  },
  {
   "cell_type": "code",
   "execution_count": null,
   "id": "1726badd",
   "metadata": {},
   "outputs": [],
   "source": [
    "np.random.uniform()"
   ]
  },
  {
   "cell_type": "code",
   "execution_count": null,
   "id": "393cd9fb",
   "metadata": {},
   "outputs": [],
   "source": [
    "for i in range(10):\n",
    "    print(i)\n",
    "    i += 2\n",
    "    print(\"again: %d\" % i)"
   ]
  },
  {
   "cell_type": "code",
   "execution_count": null,
   "id": "050e52bf",
   "metadata": {},
   "outputs": [],
   "source": [
    "clumpy = 4\n",
    "size = 13\n",
    "x = np.random.randint(200, size=(size - 1) // clumpy + 1)\n",
    "x"
   ]
  },
  {
   "cell_type": "code",
   "execution_count": null,
   "id": "be5c1204",
   "metadata": {},
   "outputs": [],
   "source": [
    "y = np.repeat(a=x, repeats=clumpy)\n",
    "y"
   ]
  },
  {
   "cell_type": "code",
   "execution_count": null,
   "id": "da512eea",
   "metadata": {},
   "outputs": [],
   "source": [
    "y[:size]"
   ]
  },
  {
   "cell_type": "code",
   "execution_count": null,
   "id": "beee1536",
   "metadata": {},
   "outputs": [],
   "source": [
    "y = y[:size]\n",
    "y"
   ]
  },
  {
   "cell_type": "code",
   "execution_count": null,
   "id": "ce0d3e4e",
   "metadata": {},
   "outputs": [],
   "source": [
    "a = np.random.poisson(lam=5, size=7)\n",
    "a[a < 2] = 2\n",
    "a"
   ]
  },
  {
   "cell_type": "code",
   "execution_count": null,
   "id": "b0efbca3",
   "metadata": {},
   "outputs": [],
   "source": [
    "np.repeat(a=a+1, repeats=2)"
   ]
  },
  {
   "cell_type": "code",
   "execution_count": null,
   "id": "8c23efb1",
   "metadata": {},
   "outputs": [],
   "source": [
    "a = np.arange(10)\n",
    "a[-1] = 999\n",
    "a"
   ]
  },
  {
   "cell_type": "code",
   "execution_count": null,
   "id": "9d206437",
   "metadata": {},
   "outputs": [],
   "source": [
    "np.zeros(5, dtype=np.int32)"
   ]
  },
  {
   "cell_type": "code",
   "execution_count": null,
   "id": "200737e9",
   "metadata": {},
   "outputs": [],
   "source": [
    "?np.zeros"
   ]
  },
  {
   "cell_type": "code",
   "execution_count": null,
   "id": "6c9cb232",
   "metadata": {},
   "outputs": [],
   "source": [
    "a = np.arange(15) + 100\n",
    "a = np.tile(A=a, reps=(4, 1))\n",
    "a"
   ]
  },
  {
   "cell_type": "code",
   "execution_count": null,
   "id": "40c6b7d4",
   "metadata": {},
   "outputs": [],
   "source": [
    "b = np.arange(15)\n",
    "b"
   ]
  },
  {
   "cell_type": "code",
   "execution_count": null,
   "id": "8516548d",
   "metadata": {},
   "outputs": [],
   "source": [
    "b = b.reshape((1, b.shape[0]))\n",
    "b"
   ]
  },
  {
   "cell_type": "code",
   "execution_count": null,
   "id": "3196f93c",
   "metadata": {},
   "outputs": [],
   "source": [
    "c = np.concatenate((a, b)).T.flatten()\n",
    "c"
   ]
  }
 ],
 "metadata": {
  "kernelspec": {
   "display_name": "Python 3 (ipykernel)",
   "language": "python",
   "name": "python3"
  },
  "language_info": {
   "codemirror_mode": {
    "name": "ipython",
    "version": 3
   },
   "file_extension": ".py",
   "mimetype": "text/x-python",
   "name": "python",
   "nbconvert_exporter": "python",
   "pygments_lexer": "ipython3",
   "version": "3.9.12"
  }
 },
 "nbformat": 4,
 "nbformat_minor": 5
}
