{
 "cells": [
  {
   "cell_type": "code",
   "execution_count": 1,
   "id": "640c7882",
   "metadata": {},
   "outputs": [],
   "source": [
    "import numpy as np"
   ]
  },
  {
   "cell_type": "code",
   "execution_count": 2,
   "id": "a4350779",
   "metadata": {},
   "outputs": [],
   "source": [
    "area_in_cell_dim = 200\n",
    "\n",
    "cell_x_id_array = np.random.randint(area_in_cell_dim, size=15)"
   ]
  },
  {
   "cell_type": "code",
   "execution_count": 3,
   "id": "52a0f473",
   "metadata": {},
   "outputs": [
    {
     "data": {
      "text/plain": [
       "array([ 39,  39,  39,  39,  39,  39,  39,   2,   2,   2,   2,   2,   2,\n",
       "         2,  46,  46,  46,  46,  46,  46,  46, 143, 143, 143, 143, 143,\n",
       "       143, 143, 106, 106, 106, 106, 106, 106, 106, 148, 148, 148, 148,\n",
       "       148, 148, 148, 167, 167, 167, 167, 167, 167, 167,  63,  63,  63,\n",
       "        63,  63,  63,  63, 130, 130, 130, 130, 130, 130, 130, 183, 183,\n",
       "       183, 183, 183, 183, 183, 113, 113, 113, 113, 113, 113, 113,  47,\n",
       "        47,  47,  47,  47,  47,  47,  51,  51,  51,  51,  51,  51,  51,\n",
       "        10,  10,  10,  10,  10,  10,  10, 128, 128, 128, 128, 128, 128,\n",
       "       128])"
      ]
     },
     "execution_count": 3,
     "metadata": {},
     "output_type": "execute_result"
    }
   ],
   "source": [
    "np.repeat(a=cell_x_id_array, repeats=7)"
   ]
  },
  {
   "cell_type": "code",
   "execution_count": 4,
   "id": "f8a018d5",
   "metadata": {},
   "outputs": [
    {
     "data": {
      "text/plain": [
       "array([195, 195, 195, 195, 195, 195, 195,  10,  10,  10,  10,  10,  10,\n",
       "        10, 230, 230, 230, 230, 230, 230, 230, 715, 715, 715, 715, 715,\n",
       "       715, 715, 530, 530, 530, 530, 530, 530, 530, 740, 740, 740, 740,\n",
       "       740, 740, 740, 835, 835, 835, 835, 835, 835, 835, 315, 315, 315,\n",
       "       315, 315, 315, 315, 650, 650, 650, 650, 650, 650, 650, 915, 915,\n",
       "       915, 915, 915, 915, 915, 565, 565, 565, 565, 565, 565, 565, 235,\n",
       "       235, 235, 235, 235, 235, 235, 255, 255, 255, 255, 255, 255, 255,\n",
       "        50,  50,  50,  50,  50,  50,  50, 640, 640, 640, 640, 640, 640,\n",
       "       640])"
      ]
     },
     "execution_count": 4,
     "metadata": {},
     "output_type": "execute_result"
    }
   ],
   "source": [
    "instance_x = cell_x_id_array * 5\n",
    "instance_x = np.repeat(a=instance_x, repeats=7)\n",
    "instance_x"
   ]
  },
  {
   "cell_type": "code",
   "execution_count": 5,
   "id": "34c4db04",
   "metadata": {},
   "outputs": [
    {
     "data": {
      "text/plain": [
       "(105,)"
      ]
     },
     "execution_count": 5,
     "metadata": {},
     "output_type": "execute_result"
    }
   ],
   "source": [
    "instance_x.shape"
   ]
  },
  {
   "cell_type": "code",
   "execution_count": 6,
   "id": "51b9e175",
   "metadata": {},
   "outputs": [
    {
     "data": {
      "text/plain": [
       "array([2.4733655 , 4.29311656, 4.12621502, 0.91758551, 4.31139402,\n",
       "       4.07139483, 2.69774213, 3.44329386, 3.57096619, 2.1703848 ])"
      ]
     },
     "execution_count": 6,
     "metadata": {},
     "output_type": "execute_result"
    }
   ],
   "source": [
    "np.random.uniform(high=5, size=10)"
   ]
  },
  {
   "cell_type": "code",
   "execution_count": 7,
   "id": "2f609a01",
   "metadata": {},
   "outputs": [
    {
     "data": {
      "text/plain": [
       "array([1, 3, 2, 2, 1, 3, 0, 1, 3, 0])"
      ]
     },
     "execution_count": 7,
     "metadata": {},
     "output_type": "execute_result"
    }
   ],
   "source": [
    "np.random.randint(low=4.3242, size=10)"
   ]
  },
  {
   "cell_type": "code",
   "execution_count": 8,
   "id": "2d8a8703",
   "metadata": {},
   "outputs": [
    {
     "data": {
      "text/plain": [
       "numpy.dtype[int32]"
      ]
     },
     "execution_count": 8,
     "metadata": {},
     "output_type": "execute_result"
    }
   ],
   "source": [
    "type(instance_x.dtype)"
   ]
  },
  {
   "cell_type": "code",
   "execution_count": 9,
   "id": "da230e86",
   "metadata": {},
   "outputs": [
    {
     "data": {
      "text/plain": [
       "dtype('int32')"
      ]
     },
     "execution_count": 9,
     "metadata": {},
     "output_type": "execute_result"
    }
   ],
   "source": [
    "instance_x.dtype"
   ]
  },
  {
   "cell_type": "code",
   "execution_count": 10,
   "id": "3cf581d2",
   "metadata": {},
   "outputs": [
    {
     "data": {
      "text/plain": [
       "dtype('float64')"
      ]
     },
     "execution_count": 10,
     "metadata": {},
     "output_type": "execute_result"
    }
   ],
   "source": [
    "(cell_x_id_array * 5.4).dtype"
   ]
  },
  {
   "cell_type": "code",
   "execution_count": 11,
   "id": "3fd0c395",
   "metadata": {},
   "outputs": [
    {
     "data": {
      "text/plain": [
       "array([0, 0, 0, 0, 0, 0, 1, 1, 1, 1, 1, 1, 2, 2, 2, 2, 2, 2, 3, 3, 3, 3,\n",
       "       3, 3, 4, 4, 4, 4, 4, 4, 5, 5, 5, 5, 5, 5, 6, 6, 6, 6, 6, 6, 7, 7,\n",
       "       7, 7, 7, 7, 8, 8, 8, 8, 8, 8, 9, 9, 9, 9, 9, 9])"
      ]
     },
     "execution_count": 11,
     "metadata": {},
     "output_type": "execute_result"
    }
   ],
   "source": [
    "np.repeat(a=np.arange(10), repeats=6)"
   ]
  },
  {
   "cell_type": "code",
   "execution_count": 12,
   "id": "67071d63",
   "metadata": {},
   "outputs": [
    {
     "data": {
      "text/plain": [
       "array([0, 1, 2, 3, 4, 5, 6, 7, 8, 9, 0, 1, 2, 3, 4, 5, 6, 7, 8, 9, 0, 1,\n",
       "       2, 3, 4, 5, 6, 7, 8, 9, 0, 1, 2, 3, 4, 5, 6, 7, 8, 9, 0, 1, 2, 3,\n",
       "       4, 5, 6, 7, 8, 9, 0, 1, 2, 3, 4, 5, 6, 7, 8, 9])"
      ]
     },
     "execution_count": 12,
     "metadata": {},
     "output_type": "execute_result"
    }
   ],
   "source": [
    "np.tile(A=np.arange(10), reps=6)"
   ]
  },
  {
   "cell_type": "code",
   "execution_count": 13,
   "id": "85d535e8",
   "metadata": {},
   "outputs": [
    {
     "name": "stdout",
     "output_type": "stream",
     "text": [
      "[0 1 2 3 4 5 6 7 8 9]\n",
      "[0 0 0 0 0 1 1 1 1 1 2 2 2 2 2 3 3 3 3 3 4 4 4 4 4 5 5 5 5 5 6 6 6 6 6 7 7\n",
      " 7 7 7 8 8 8 8 8 9 9 9 9 9]\n"
     ]
    }
   ],
   "source": [
    "a = np.arange(10)\n",
    "b = a.repeat(5)\n",
    "print(a)\n",
    "print(b)"
   ]
  },
  {
   "cell_type": "code",
   "execution_count": 14,
   "id": "0e464765",
   "metadata": {},
   "outputs": [],
   "source": [
    "a = np.arange(start=0, stop=10)\n",
    "b = np.arange(start=50, stop=60)\n",
    "c = np.arange(start=100, stop=110)"
   ]
  },
  {
   "cell_type": "code",
   "execution_count": 15,
   "id": "0302d536",
   "metadata": {},
   "outputs": [
    {
     "data": {
      "text/plain": [
       "array([[  0,  50, 100],\n",
       "       [  1,  51, 101],\n",
       "       [  2,  52, 102],\n",
       "       [  3,  53, 103],\n",
       "       [  4,  54, 104],\n",
       "       [  5,  55, 105],\n",
       "       [  6,  56, 106],\n",
       "       [  7,  57, 107],\n",
       "       [  8,  58, 108],\n",
       "       [  9,  59, 109]])"
      ]
     },
     "execution_count": 15,
     "metadata": {},
     "output_type": "execute_result"
    }
   ],
   "source": [
    "np.stack(arrays=(a, b, c), axis=-1)"
   ]
  },
  {
   "cell_type": "code",
   "execution_count": 16,
   "id": "fad19771",
   "metadata": {},
   "outputs": [
    {
     "data": {
      "text/plain": [
       "array([[  0,  50, 100],\n",
       "       [  1,  51, 101],\n",
       "       [  2,  52, 102],\n",
       "       [  3,  53, 103],\n",
       "       [  4,  54, 104],\n",
       "       [  5,  55, 105],\n",
       "       [  6,  56, 106],\n",
       "       [  7,  57, 107],\n",
       "       [  8,  58, 108],\n",
       "       [  9,  59, 109]])"
      ]
     },
     "execution_count": 16,
     "metadata": {},
     "output_type": "execute_result"
    }
   ],
   "source": [
    "np.stack(arrays=(a, b, c)).T"
   ]
  },
  {
   "cell_type": "code",
   "execution_count": 17,
   "id": "b66b973a",
   "metadata": {},
   "outputs": [
    {
     "data": {
      "text/plain": [
       "array([[  0,  50, 100],\n",
       "       [  1,  51, 101],\n",
       "       [  2,  52, 102],\n",
       "       [  3,  53, 103],\n",
       "       [  4,  54, 104],\n",
       "       [  5,  55, 105],\n",
       "       [  6,  56, 106],\n",
       "       [  7,  57, 107],\n",
       "       [  8,  58, 108],\n",
       "       [  9,  59, 109]])"
      ]
     },
     "execution_count": 17,
     "metadata": {},
     "output_type": "execute_result"
    }
   ],
   "source": [
    "np.column_stack(tup=(a, b, c))"
   ]
  },
  {
   "cell_type": "code",
   "execution_count": 18,
   "id": "bc6babb1",
   "metadata": {},
   "outputs": [
    {
     "name": "stdout",
     "output_type": "stream",
     "text": [
      "[[  0  50 100]\n",
      " [  1  51 101]\n",
      " [  2  52 102]\n",
      " [  3  53 103]\n",
      " [  4  54 104]\n",
      " [  5  55 105]\n",
      " [  6  56 106]\n",
      " [  7  57 107]\n",
      " [  8  58 108]\n",
      " [  9  59 109]]\n"
     ]
    }
   ],
   "source": [
    "stacked = np.column_stack(tup=(a, b, c))\n",
    "print(stacked)\n",
    "np.savetxt(fname=\"test.txt\", X=stacked, fmt=['%d', '%d', '%.6f'])"
   ]
  },
  {
   "cell_type": "code",
   "execution_count": 19,
   "id": "72571bab",
   "metadata": {},
   "outputs": [
    {
     "name": "stdout",
     "output_type": "stream",
     "text": [
      "[[  0.  50. 100.]\n",
      " [  1.  51. 101.]\n",
      " [  2.  52. 102.]\n",
      " [  3.  53. 103.]\n",
      " [  4.  54. 104.]\n",
      " [  5.  55. 105.]\n",
      " [  6.  56. 106.]\n",
      " [  7.  57. 107.]\n",
      " [  8.  58. 108.]\n",
      " [  9.  59. 109.]]\n"
     ]
    }
   ],
   "source": [
    "a = np.arange(start=0, stop=10)\n",
    "b = np.arange(start=50, stop=60)\n",
    "c = np.arange(start=100, stop=110, dtype=np.float64)\n",
    "stacked = np.column_stack(tup=(a, b, c))\n",
    "print(stacked)\n",
    "np.savetxt(fname=\"test.txt\", X=stacked, fmt=['%d', '%d', '%.6f'])"
   ]
  },
  {
   "cell_type": "code",
   "execution_count": 20,
   "id": "ce2b283a",
   "metadata": {},
   "outputs": [
    {
     "data": {
      "text/plain": [
       "'%g %g %g'"
      ]
     },
     "execution_count": 20,
     "metadata": {},
     "output_type": "execute_result"
    }
   ],
   "source": [
    "fmt = ' '.join(['%g']*stacked.shape[1])\n",
    "fmt"
   ]
  },
  {
   "cell_type": "code",
   "execution_count": 21,
   "id": "56d16d6c",
   "metadata": {},
   "outputs": [
    {
     "data": {
      "text/plain": [
       "'%d %d %.6f\\n%d %d %.6f\\n%d %d %.6f\\n%d %d %.6f\\n%d %d %.6f\\n%d %d %.6f\\n%d %d %.6f\\n%d %d %.6f\\n%d %d %.6f\\n%d %d %.6f\\n'"
      ]
     },
     "execution_count": 21,
     "metadata": {},
     "output_type": "execute_result"
    }
   ],
   "source": [
    "fmt = '%d %d %.6f\\n'*stacked.shape[0]\n",
    "fmt"
   ]
  },
  {
   "cell_type": "code",
   "execution_count": 22,
   "id": "f7f95c84",
   "metadata": {},
   "outputs": [
    {
     "data": {
      "text/plain": [
       "'0 50 100.000000\\n1 51 101.000000\\n2 52 102.000000\\n3 53 103.000000\\n4 54 104.000000\\n5 55 105.000000\\n6 56 106.000000\\n7 57 107.000000\\n8 58 108.000000\\n9 59 109.000000\\n'"
      ]
     },
     "execution_count": 22,
     "metadata": {},
     "output_type": "execute_result"
    }
   ],
   "source": [
    "fmt % tuple(stacked.ravel())"
   ]
  },
  {
   "cell_type": "code",
   "execution_count": 23,
   "id": "358d9548",
   "metadata": {},
   "outputs": [
    {
     "data": {
      "text/plain": [
       "['%d %d %.6f',\n",
       " '%d %d %.6f',\n",
       " '%d %d %.6f',\n",
       " '%d %d %.6f',\n",
       " '%d %d %.6f',\n",
       " '%d %d %.6f',\n",
       " '%d %d %.6f',\n",
       " '%d %d %.6f',\n",
       " '%d %d %.6f',\n",
       " '%d %d %.6f']"
      ]
     },
     "execution_count": 23,
     "metadata": {},
     "output_type": "execute_result"
    }
   ],
   "source": [
    "['%d %d %.6f'] * stacked.shape[0]"
   ]
  },
  {
   "cell_type": "code",
   "execution_count": 24,
   "id": "6e17b642",
   "metadata": {},
   "outputs": [
    {
     "data": {
      "text/plain": [
       "array([102, 104, 109])"
      ]
     },
     "execution_count": 24,
     "metadata": {},
     "output_type": "execute_result"
    }
   ],
   "source": [
    "a = np.arange(100, 110)\n",
    "b = np.array([2, 4, 9])\n",
    "a[b]"
   ]
  },
  {
   "cell_type": "code",
   "execution_count": 25,
   "id": "6dfedf06",
   "metadata": {},
   "outputs": [
    {
     "data": {
      "text/plain": [
       "array([29.25553556, 50.90948837, 29.2235092 , 30.7563599 , 41.99498168,\n",
       "       73.66472879, 76.46361333, 70.01751016, 69.65972767, 33.23888956,\n",
       "       85.95271568, 13.58962161, 76.51990233, 79.79699827, 27.7630079 ,\n",
       "       23.28581536, 60.42085462, 96.63791462,  9.01688768, 79.07103466])"
      ]
     },
     "execution_count": 25,
     "metadata": {},
     "output_type": "execute_result"
    }
   ],
   "source": [
    "x = np.random.uniform(high=100, size=20)\n",
    "x"
   ]
  },
  {
   "cell_type": "code",
   "execution_count": 26,
   "id": "3843b428",
   "metadata": {},
   "outputs": [
    {
     "data": {
      "text/plain": [
       "dtype('float64')"
      ]
     },
     "execution_count": 26,
     "metadata": {},
     "output_type": "execute_result"
    }
   ],
   "source": [
    "x.dtype"
   ]
  },
  {
   "cell_type": "code",
   "execution_count": 27,
   "id": "a7306181",
   "metadata": {},
   "outputs": [
    {
     "data": {
      "text/plain": [
       "array([29.25553556, 50.90948837, 29.2235092 , 30.7563599 , 41.99498168,\n",
       "       73.66472879, 76.46361333, 70.01751016, 69.65972767, 33.23888956,\n",
       "       85.95271568, 13.58962161, 76.51990233, 79.79699827, 27.7630079 ,\n",
       "       23.28581536, 60.42085462, 96.63791462,  9.01688768, 79.07103466])"
      ]
     },
     "execution_count": 27,
     "metadata": {},
     "output_type": "execute_result"
    }
   ],
   "source": [
    "y = x.astype(np.float64)\n",
    "y"
   ]
  },
  {
   "cell_type": "code",
   "execution_count": 28,
   "id": "7b46c759",
   "metadata": {},
   "outputs": [
    {
     "data": {
      "text/plain": [
       "dtype('float64')"
      ]
     },
     "execution_count": 28,
     "metadata": {},
     "output_type": "execute_result"
    }
   ],
   "source": [
    "y.dtype"
   ]
  },
  {
   "cell_type": "code",
   "execution_count": 29,
   "id": "af0f9a15",
   "metadata": {},
   "outputs": [],
   "source": [
    "number = np.array([2, 5, 3, 7])\n",
    "start = np.array([100, 50, 5, 150])"
   ]
  },
  {
   "cell_type": "code",
   "execution_count": 33,
   "id": "102dc42d",
   "metadata": {},
   "outputs": [
    {
     "ename": "ValueError",
     "evalue": "The truth value of an array with more than one element is ambiguous. Use a.any() or a.all()",
     "output_type": "error",
     "traceback": [
      "\u001b[1;31m---------------------------------------------------------------------------\u001b[0m",
      "\u001b[1;31mValueError\u001b[0m                                Traceback (most recent call last)",
      "Input \u001b[1;32mIn [33]\u001b[0m, in \u001b[0;36m<cell line: 1>\u001b[1;34m()\u001b[0m\n\u001b[1;32m----> 1\u001b[0m a \u001b[38;5;241m=\u001b[39m \u001b[43mnp\u001b[49m\u001b[38;5;241;43m.\u001b[39;49m\u001b[43marange\u001b[49m\u001b[43m(\u001b[49m\u001b[43mstop\u001b[49m\u001b[38;5;241;43m=\u001b[39;49m\u001b[43mstart\u001b[49m\u001b[38;5;241;43m+\u001b[39;49m\u001b[43mnumber\u001b[49m\u001b[43m)\u001b[49m\n\u001b[0;32m      2\u001b[0m a\n",
      "\u001b[1;31mValueError\u001b[0m: The truth value of an array with more than one element is ambiguous. Use a.any() or a.all()"
     ]
    }
   ],
   "source": [
    "a = np.arange(start=start, stop=start+number)\n",
    "a"
   ]
  },
  {
   "cell_type": "code",
   "execution_count": 34,
   "id": "0bcde0d4",
   "metadata": {},
   "outputs": [
    {
     "data": {
      "text/plain": [
       "array([102,  55,   8, 157])"
      ]
     },
     "execution_count": 34,
     "metadata": {},
     "output_type": "execute_result"
    }
   ],
   "source": [
    "start + number"
   ]
  },
  {
   "cell_type": "code",
   "execution_count": 35,
   "id": "aa54b611",
   "metadata": {},
   "outputs": [
    {
     "data": {
      "text/plain": [
       "[array([0, 1, 2, 3, 4, 5, 6, 7, 8, 9]),\n",
       " array([50, 51, 52, 53, 54]),\n",
       " array([100, 101, 102, 103, 104, 105, 106, 107, 108, 109, 110, 111, 112,\n",
       "        113, 114, 115, 116, 117, 118, 119])]"
      ]
     },
     "execution_count": 35,
     "metadata": {},
     "output_type": "execute_result"
    }
   ],
   "source": [
    "a = np.arange(start=0, stop=10)\n",
    "b = np.arange(start=50, stop=55)\n",
    "c = np.arange(start=100, stop=120)\n",
    "arrays = [a, b, c]\n",
    "arrays"
   ]
  },
  {
   "cell_type": "code",
   "execution_count": 36,
   "id": "d6b71ec3",
   "metadata": {},
   "outputs": [
    {
     "data": {
      "text/plain": [
       "array([  0,   1,   2,   3,   4,   5,   6,   7,   8,   9,  50,  51,  52,\n",
       "        53,  54, 100, 101, 102, 103, 104, 105, 106, 107, 108, 109, 110,\n",
       "       111, 112, 113, 114, 115, 116, 117, 118, 119])"
      ]
     },
     "execution_count": 36,
     "metadata": {},
     "output_type": "execute_result"
    }
   ],
   "source": [
    "np.concatenate(arrays)"
   ]
  },
  {
   "cell_type": "code",
   "execution_count": 39,
   "id": "f2a87190",
   "metadata": {},
   "outputs": [
    {
     "data": {
      "text/plain": [
       "(array([  0,  50, 100]), array([10,  5, 20]))"
      ]
     },
     "execution_count": 39,
     "metadata": {},
     "output_type": "execute_result"
    }
   ],
   "source": [
    "start = np.array([0, 50, 100])\n",
    "length = np.array([10, 5, 20])\n",
    "start, length"
   ]
  },
  {
   "cell_type": "code",
   "execution_count": 41,
   "id": "1b2dcfa1",
   "metadata": {},
   "outputs": [
    {
     "data": {
      "text/plain": [
       "array([10, 15, 35])"
      ]
     },
     "execution_count": 41,
     "metadata": {},
     "output_type": "execute_result"
    }
   ],
   "source": [
    "length.cumsum()"
   ]
  },
  {
   "cell_type": "code",
   "execution_count": 42,
   "id": "2b9b8321",
   "metadata": {},
   "outputs": [
    {
     "data": {
      "text/plain": [
       "array([ 0, 40, 85])"
      ]
     },
     "execution_count": 42,
     "metadata": {},
     "output_type": "execute_result"
    }
   ],
   "source": [
    "start + length - length.cumsum()"
   ]
  },
  {
   "cell_type": "code",
   "execution_count": 43,
   "id": "f8b29a43",
   "metadata": {},
   "outputs": [
    {
     "data": {
      "text/plain": [
       "array([ 0,  0,  0,  0,  0,  0,  0,  0,  0,  0, 40, 40, 40, 40, 40, 85, 85,\n",
       "       85, 85, 85, 85, 85, 85, 85, 85, 85, 85, 85, 85, 85, 85, 85, 85, 85,\n",
       "       85])"
      ]
     },
     "execution_count": 43,
     "metadata": {},
     "output_type": "execute_result"
    }
   ],
   "source": [
    "np.repeat(start + length - length.cumsum(), length)"
   ]
  },
  {
   "cell_type": "code",
   "execution_count": 44,
   "id": "986a672a",
   "metadata": {},
   "outputs": [
    {
     "data": {
      "text/plain": [
       "array([ 0,  1,  2,  3,  4,  5,  6,  7,  8,  9, 10, 11, 12, 13, 14, 15, 16,\n",
       "       17, 18, 19, 20, 21, 22, 23, 24, 25, 26, 27, 28, 29, 30, 31, 32, 33,\n",
       "       34])"
      ]
     },
     "execution_count": 44,
     "metadata": {},
     "output_type": "execute_result"
    }
   ],
   "source": [
    "np.arange(length.sum())"
   ]
  },
  {
   "cell_type": "code",
   "execution_count": 45,
   "id": "9216d916",
   "metadata": {},
   "outputs": [
    {
     "data": {
      "text/plain": [
       "array([  0,   1,   2,   3,   4,   5,   6,   7,   8,   9,  50,  51,  52,\n",
       "        53,  54, 100, 101, 102, 103, 104, 105, 106, 107, 108, 109, 110,\n",
       "       111, 112, 113, 114, 115, 116, 117, 118, 119])"
      ]
     },
     "execution_count": 45,
     "metadata": {},
     "output_type": "execute_result"
    }
   ],
   "source": [
    "np.repeat(start + length - length.cumsum(), length) + np.arange(length.sum())"
   ]
  },
  {
   "cell_type": "code",
   "execution_count": null,
   "id": "68ecc625",
   "metadata": {},
   "outputs": [],
   "source": []
  },
  {
   "cell_type": "code",
   "execution_count": 8,
   "id": "0f8403b3",
   "metadata": {},
   "outputs": [
    {
     "data": {
      "text/plain": [
       "array([], dtype=float64)"
      ]
     },
     "execution_count": 8,
     "metadata": {},
     "output_type": "execute_result"
    }
   ],
   "source": [
    "x = np.array([])\n",
    "x"
   ]
  },
  {
   "cell_type": "code",
   "execution_count": 9,
   "id": "dc25bc47",
   "metadata": {},
   "outputs": [],
   "source": [
    "def f(x):\n",
    "    print(x)\n",
    "    x[4] = 999\n",
    "    print(x)"
   ]
  },
  {
   "cell_type": "code",
   "execution_count": 11,
   "id": "931a1b2d",
   "metadata": {},
   "outputs": [
    {
     "name": "stdout",
     "output_type": "stream",
     "text": [
      "[0 1 2 3 4 5 6 7 8 9]\n",
      "funkcja\n",
      "[0 1 2 3 4 5 6 7 8 9]\n",
      "[  0   1   2   3 999   5   6   7   8   9]\n",
      "po funkcji\n",
      "[  0   1   2   3 999   5   6   7   8   9]\n"
     ]
    }
   ],
   "source": [
    "a = np.arange(10)\n",
    "print(a)\n",
    "print(\"funkcja\")\n",
    "f(a)\n",
    "print(\"po funkcji\")\n",
    "print(a)"
   ]
  },
  {
   "cell_type": "code",
   "execution_count": 22,
   "id": "233e968f",
   "metadata": {},
   "outputs": [
    {
     "data": {
      "text/plain": [
       "array([0, 0])"
      ]
     },
     "execution_count": 22,
     "metadata": {},
     "output_type": "execute_result"
    }
   ],
   "source": [
    "x = np.zeros(2, dtype=np.int32)\n",
    "x"
   ]
  },
  {
   "cell_type": "code",
   "execution_count": 23,
   "id": "a1f1e407",
   "metadata": {},
   "outputs": [
    {
     "data": {
      "text/plain": [
       "array([1, 2])"
      ]
     },
     "execution_count": 23,
     "metadata": {},
     "output_type": "execute_result"
    }
   ],
   "source": [
    "x[1] += 1\n",
    "x[0] += 1\n",
    "x[1] += 1\n",
    "x"
   ]
  },
  {
   "cell_type": "code",
   "execution_count": 2,
   "id": "a6b5a68d",
   "metadata": {},
   "outputs": [
    {
     "data": {
      "text/plain": [
       "(array([1, 2, 3, 4, 5, 6]),\n",
       " array([ 0,  1,  3,  5, 13,  2], dtype=int64),\n",
       " array([0, 1, 5, 2, 1, 3, 5, 1, 2, 3, 5, 2, 1, 4, 1, 2, 0, 4, 2],\n",
       "       dtype=int64),\n",
       " array([2, 5, 5, 2, 2, 3], dtype=int64))"
      ]
     },
     "execution_count": 2,
     "metadata": {},
     "output_type": "execute_result"
    }
   ],
   "source": [
    "a = np.array([1, 2, 6, 3, 2, 4, 6, 2, 3, 4, 6, 3, 2, 5, 2, 3, 1, 5, 3])\n",
    "np.unique(ar=a, return_index=True, return_inverse=True, return_counts=True)"
   ]
  },
  {
   "cell_type": "code",
   "execution_count": 3,
   "id": "0762d216",
   "metadata": {},
   "outputs": [
    {
     "data": {
      "text/plain": [
       "(array([1, 2, 3, 4, 5, 6]), array([2, 5, 5, 2, 2, 3], dtype=int64))"
      ]
     },
     "execution_count": 3,
     "metadata": {},
     "output_type": "execute_result"
    }
   ],
   "source": [
    "a = np.array([1, 2, 6, 3, 2, 4, 6, 2, 3, 4, 6, 3, 2, 5, 2, 3, 1, 5, 3])\n",
    "np.unique(ar=a, return_counts=True)"
   ]
  },
  {
   "cell_type": "code",
   "execution_count": 5,
   "id": "88ef3971",
   "metadata": {},
   "outputs": [
    {
     "data": {
      "text/plain": [
       "array([2, 5, 5, 2, 2, 3], dtype=int64)"
      ]
     },
     "execution_count": 5,
     "metadata": {},
     "output_type": "execute_result"
    }
   ],
   "source": [
    "(unique, counts) = np.unique(ar=a, return_counts=True)\n",
    "counts"
   ]
  },
  {
   "cell_type": "code",
   "execution_count": 11,
   "id": "585ac9be",
   "metadata": {},
   "outputs": [
    {
     "data": {
      "text/plain": [
       "array([11, 13, 12, 11, 12, 12, 10, 10, 12, 10, 13, 11, 11, 11, 12, 13, 11,\n",
       "       12, 11, 13, 11, 10, 12, 10, 11, 11, 11, 13, 12, 10])"
      ]
     },
     "execution_count": 11,
     "metadata": {},
     "output_type": "execute_result"
    }
   ],
   "source": [
    "ndf = 4\n",
    "ndfn = 30\n",
    "last_colloc_id = 10\n",
    "additional_noise_feature = np.random.randint(low=ndf, size=ndfn) + last_colloc_id\n",
    "additional_noise_feature"
   ]
  },
  {
   "cell_type": "code",
   "execution_count": 12,
   "id": "67bb3953",
   "metadata": {},
   "outputs": [
    {
     "data": {
      "text/plain": [
       "array([ 6, 11,  8,  5], dtype=int64)"
      ]
     },
     "execution_count": 12,
     "metadata": {},
     "output_type": "execute_result"
    }
   ],
   "source": [
    "(unique, counts) = np.unique(ar=additional_noise_feature, return_counts=True)\n",
    "counts"
   ]
  },
  {
   "cell_type": "code",
   "execution_count": 20,
   "id": "fbd49da5",
   "metadata": {},
   "outputs": [
    {
     "data": {
      "text/plain": [
       "array([ 0,  1,  2,  3,  4,  5,  0,  1,  2,  3,  4,  5,  6,  7,  8,  9, 10,\n",
       "        0,  1,  2,  3,  4,  5,  6,  7,  0,  1,  2,  3,  4], dtype=int64)"
      ]
     },
     "execution_count": 20,
     "metadata": {},
     "output_type": "execute_result"
    }
   ],
   "source": [
    "x = np.repeat(counts - counts.cumsum(), counts) + np.arange(counts.sum())\n",
    "x"
   ]
  },
  {
   "cell_type": "code",
   "execution_count": 21,
   "id": "f5621346",
   "metadata": {},
   "outputs": [
    {
     "data": {
      "text/plain": [
       "array([ 0,  1,  2,  3,  4,  5,  0,  1,  2,  3,  4,  5,  6,  7,  8,  9, 10,\n",
       "        0,  1,  2,  3,  4,  5,  6,  7,  0,  1,  2,  3,  4], dtype=int64)"
      ]
     },
     "execution_count": 21,
     "metadata": {},
     "output_type": "execute_result"
    }
   ],
   "source": [
    "x"
   ]
  },
  {
   "cell_type": "code",
   "execution_count": 18,
   "id": "76d6014d",
   "metadata": {},
   "outputs": [],
   "source": [
    "np.random.shuffle(x)"
   ]
  },
  {
   "cell_type": "code",
   "execution_count": 22,
   "id": "af7087f3",
   "metadata": {},
   "outputs": [
    {
     "data": {
      "text/plain": [
       "array([10, 10, 10, 10, 10, 10, 11, 11, 11, 11, 11, 11, 11, 11, 11, 11, 11,\n",
       "       12, 12, 12, 12, 12, 12, 12, 12, 13, 13, 13, 13, 13])"
      ]
     },
     "execution_count": 22,
     "metadata": {},
     "output_type": "execute_result"
    }
   ],
   "source": [
    "a = np.repeat(unique, counts)\n",
    "a"
   ]
  },
  {
   "cell_type": "code",
   "execution_count": 69,
   "id": "109f1632",
   "metadata": {},
   "outputs": [
    {
     "data": {
      "text/plain": [
       "array([[ 0, 10],\n",
       "       [ 1, 10],\n",
       "       [ 2, 10],\n",
       "       [ 3, 10],\n",
       "       [ 4, 10],\n",
       "       [ 5, 10],\n",
       "       [ 0, 11],\n",
       "       [ 1, 11],\n",
       "       [ 2, 11],\n",
       "       [ 3, 11],\n",
       "       [ 4, 11],\n",
       "       [ 5, 11],\n",
       "       [ 6, 11],\n",
       "       [ 7, 11],\n",
       "       [ 8, 11],\n",
       "       [ 9, 11],\n",
       "       [10, 11],\n",
       "       [ 0, 12],\n",
       "       [ 1, 12],\n",
       "       [ 2, 12],\n",
       "       [ 3, 12],\n",
       "       [ 4, 12],\n",
       "       [ 5, 12],\n",
       "       [ 6, 12],\n",
       "       [ 7, 12],\n",
       "       [ 0, 13],\n",
       "       [ 1, 13],\n",
       "       [ 2, 13],\n",
       "       [ 3, 13],\n",
       "       [ 4, 13]], dtype=int64)"
      ]
     },
     "execution_count": 69,
     "metadata": {},
     "output_type": "execute_result"
    }
   ],
   "source": [
    "xa = np.column_stack(tup=(x, a))\n",
    "xa"
   ]
  },
  {
   "cell_type": "code",
   "execution_count": 70,
   "id": "771f6492",
   "metadata": {},
   "outputs": [
    {
     "data": {
      "text/plain": [
       "array([[10, 11],\n",
       "       [ 2, 12],\n",
       "       [ 0, 12],\n",
       "       [ 1, 11],\n",
       "       [ 4, 12],\n",
       "       [ 1, 12],\n",
       "       [ 5, 11],\n",
       "       [ 3, 13],\n",
       "       [ 1, 13],\n",
       "       [ 3, 11],\n",
       "       [ 4, 11],\n",
       "       [ 7, 11],\n",
       "       [ 1, 10],\n",
       "       [ 3, 10],\n",
       "       [ 8, 11],\n",
       "       [ 9, 11],\n",
       "       [ 5, 10],\n",
       "       [ 2, 11],\n",
       "       [ 0, 13],\n",
       "       [ 6, 12],\n",
       "       [ 2, 13],\n",
       "       [ 6, 11],\n",
       "       [ 4, 10],\n",
       "       [ 0, 11],\n",
       "       [ 3, 12],\n",
       "       [ 0, 10],\n",
       "       [ 4, 13],\n",
       "       [ 7, 12],\n",
       "       [ 2, 10],\n",
       "       [ 5, 12]], dtype=int64)"
      ]
     },
     "execution_count": 70,
     "metadata": {},
     "output_type": "execute_result"
    }
   ],
   "source": [
    "np.random.shuffle(xa)\n",
    "xa"
   ]
  },
  {
   "cell_type": "code",
   "execution_count": 2,
   "id": "f3af87e4",
   "metadata": {},
   "outputs": [],
   "source": [
    "?np.random.randint"
   ]
  },
  {
   "cell_type": "code",
   "execution_count": 3,
   "id": "58651089",
   "metadata": {},
   "outputs": [],
   "source": [
    "?np.random.uniform"
   ]
  },
  {
   "cell_type": "code",
   "execution_count": 18,
   "id": "a9ce96f0",
   "metadata": {},
   "outputs": [
    {
     "data": {
      "text/plain": [
       "array([0.46376512, 0.29341507, 0.84607751, 0.488735  , 0.95597346,\n",
       "       0.70636899, 0.47460146, 0.99962915, 0.98133157, 0.66829885])"
      ]
     },
     "execution_count": 18,
     "metadata": {},
     "output_type": "execute_result"
    }
   ],
   "source": [
    "np.random.uniform(size=10)"
   ]
  },
  {
   "cell_type": "code",
   "execution_count": 26,
   "id": "1726badd",
   "metadata": {},
   "outputs": [
    {
     "data": {
      "text/plain": [
       "0.736954427522925"
      ]
     },
     "execution_count": 26,
     "metadata": {},
     "output_type": "execute_result"
    }
   ],
   "source": [
    "np.random.uniform()"
   ]
  },
  {
   "cell_type": "code",
   "execution_count": 3,
   "id": "393cd9fb",
   "metadata": {},
   "outputs": [
    {
     "name": "stdout",
     "output_type": "stream",
     "text": [
      "0\n",
      "again: 2\n",
      "1\n",
      "again: 3\n",
      "2\n",
      "again: 4\n",
      "3\n",
      "again: 5\n",
      "4\n",
      "again: 6\n",
      "5\n",
      "again: 7\n",
      "6\n",
      "again: 8\n",
      "7\n",
      "again: 9\n",
      "8\n",
      "again: 10\n",
      "9\n",
      "again: 11\n"
     ]
    }
   ],
   "source": [
    "for i in range(10):\n",
    "    print(i)\n",
    "    i += 2\n",
    "    print(\"again: %d\" % i)"
   ]
  },
  {
   "cell_type": "code",
   "execution_count": 36,
   "id": "050e52bf",
   "metadata": {},
   "outputs": [
    {
     "data": {
      "text/plain": [
       "array([ 35,  96, 120,   3])"
      ]
     },
     "execution_count": 36,
     "metadata": {},
     "output_type": "execute_result"
    }
   ],
   "source": [
    "clumpy = 4\n",
    "size = 13\n",
    "x = np.random.randint(200, size=(size - 1) // clumpy + 1)\n",
    "x"
   ]
  },
  {
   "cell_type": "code",
   "execution_count": 37,
   "id": "be5c1204",
   "metadata": {},
   "outputs": [
    {
     "data": {
      "text/plain": [
       "array([ 35,  35,  35,  35,  96,  96,  96,  96, 120, 120, 120, 120,   3,\n",
       "         3,   3,   3])"
      ]
     },
     "execution_count": 37,
     "metadata": {},
     "output_type": "execute_result"
    }
   ],
   "source": [
    "y = np.repeat(a=x, repeats=clumpy)\n",
    "y"
   ]
  },
  {
   "cell_type": "code",
   "execution_count": 38,
   "id": "da512eea",
   "metadata": {},
   "outputs": [
    {
     "data": {
      "text/plain": [
       "array([ 35,  35,  35,  35,  96,  96,  96,  96, 120, 120, 120, 120,   3])"
      ]
     },
     "execution_count": 38,
     "metadata": {},
     "output_type": "execute_result"
    }
   ],
   "source": [
    "y[:size]"
   ]
  },
  {
   "cell_type": "code",
   "execution_count": 39,
   "id": "beee1536",
   "metadata": {},
   "outputs": [
    {
     "data": {
      "text/plain": [
       "array([ 35,  35,  35,  35,  96,  96,  96,  96, 120, 120, 120, 120,   3])"
      ]
     },
     "execution_count": 39,
     "metadata": {},
     "output_type": "execute_result"
    }
   ],
   "source": [
    "y = y[:size]\n",
    "y"
   ]
  },
  {
   "cell_type": "code",
   "execution_count": null,
   "id": "ce0d3e4e",
   "metadata": {},
   "outputs": [],
   "source": []
  }
 ],
 "metadata": {
  "kernelspec": {
   "display_name": "Python 3 (ipykernel)",
   "language": "python",
   "name": "python3"
  },
  "language_info": {
   "codemirror_mode": {
    "name": "ipython",
    "version": 3
   },
   "file_extension": ".py",
   "mimetype": "text/x-python",
   "name": "python",
   "nbconvert_exporter": "python",
   "pygments_lexer": "ipython3",
   "version": "3.9.12"
  }
 },
 "nbformat": 4,
 "nbformat_minor": 5
}
