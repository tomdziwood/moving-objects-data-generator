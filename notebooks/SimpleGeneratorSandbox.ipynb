{
 "cells": [
  {
   "cell_type": "code",
   "execution_count": 1,
   "id": "640c7882",
   "metadata": {},
   "outputs": [],
   "source": [
    "import numpy as np"
   ]
  },
  {
   "cell_type": "code",
   "execution_count": 2,
   "id": "a4350779",
   "metadata": {},
   "outputs": [],
   "source": [
    "area_in_cell_dim = 200\n",
    "\n",
    "cell_x_id_array = np.random.randint(area_in_cell_dim, size=15)"
   ]
  },
  {
   "cell_type": "code",
   "execution_count": 3,
   "id": "52a0f473",
   "metadata": {},
   "outputs": [
    {
     "data": {
      "text/plain": [
       "array([ 28,  28,  28,  28,  28,  28,  28, 170, 170, 170, 170, 170, 170,\n",
       "       170,  33,  33,  33,  33,  33,  33,  33, 149, 149, 149, 149, 149,\n",
       "       149, 149,   3,   3,   3,   3,   3,   3,   3, 198, 198, 198, 198,\n",
       "       198, 198, 198, 135, 135, 135, 135, 135, 135, 135,  27,  27,  27,\n",
       "        27,  27,  27,  27,   7,   7,   7,   7,   7,   7,   7, 178, 178,\n",
       "       178, 178, 178, 178, 178, 147, 147, 147, 147, 147, 147, 147, 120,\n",
       "       120, 120, 120, 120, 120, 120,  56,  56,  56,  56,  56,  56,  56,\n",
       "        14,  14,  14,  14,  14,  14,  14, 190, 190, 190, 190, 190, 190,\n",
       "       190])"
      ]
     },
     "execution_count": 3,
     "metadata": {},
     "output_type": "execute_result"
    }
   ],
   "source": [
    "np.repeat(a=cell_x_id_array, repeats=7)"
   ]
  },
  {
   "cell_type": "code",
   "execution_count": 4,
   "id": "f8a018d5",
   "metadata": {},
   "outputs": [
    {
     "data": {
      "text/plain": [
       "array([140, 140, 140, 140, 140, 140, 140, 850, 850, 850, 850, 850, 850,\n",
       "       850, 165, 165, 165, 165, 165, 165, 165, 745, 745, 745, 745, 745,\n",
       "       745, 745,  15,  15,  15,  15,  15,  15,  15, 990, 990, 990, 990,\n",
       "       990, 990, 990, 675, 675, 675, 675, 675, 675, 675, 135, 135, 135,\n",
       "       135, 135, 135, 135,  35,  35,  35,  35,  35,  35,  35, 890, 890,\n",
       "       890, 890, 890, 890, 890, 735, 735, 735, 735, 735, 735, 735, 600,\n",
       "       600, 600, 600, 600, 600, 600, 280, 280, 280, 280, 280, 280, 280,\n",
       "        70,  70,  70,  70,  70,  70,  70, 950, 950, 950, 950, 950, 950,\n",
       "       950])"
      ]
     },
     "execution_count": 4,
     "metadata": {},
     "output_type": "execute_result"
    }
   ],
   "source": [
    "instance_x = cell_x_id_array * 5\n",
    "instance_x = np.repeat(a=instance_x, repeats=7)\n",
    "instance_x"
   ]
  },
  {
   "cell_type": "code",
   "execution_count": 5,
   "id": "34c4db04",
   "metadata": {},
   "outputs": [
    {
     "data": {
      "text/plain": [
       "(105,)"
      ]
     },
     "execution_count": 5,
     "metadata": {},
     "output_type": "execute_result"
    }
   ],
   "source": [
    "instance_x.shape"
   ]
  },
  {
   "cell_type": "code",
   "execution_count": 6,
   "id": "51b9e175",
   "metadata": {},
   "outputs": [
    {
     "data": {
      "text/plain": [
       "array([1.78278536, 1.27997298, 3.83534754, 3.57578271, 1.53525029,\n",
       "       1.31937879, 0.3560426 , 3.75060282, 3.652266  , 3.92162062])"
      ]
     },
     "execution_count": 6,
     "metadata": {},
     "output_type": "execute_result"
    }
   ],
   "source": [
    "np.random.uniform(high=5, size=10)"
   ]
  },
  {
   "cell_type": "code",
   "execution_count": 7,
   "id": "2f609a01",
   "metadata": {},
   "outputs": [
    {
     "data": {
      "text/plain": [
       "array([2, 2, 1, 3, 0, 2, 1, 3, 3, 3])"
      ]
     },
     "execution_count": 7,
     "metadata": {},
     "output_type": "execute_result"
    }
   ],
   "source": [
    "np.random.randint(low=4.3242, size=10)"
   ]
  },
  {
   "cell_type": "code",
   "execution_count": 8,
   "id": "2d8a8703",
   "metadata": {},
   "outputs": [
    {
     "data": {
      "text/plain": [
       "numpy.dtype[int32]"
      ]
     },
     "execution_count": 8,
     "metadata": {},
     "output_type": "execute_result"
    }
   ],
   "source": [
    "type(instance_x.dtype)"
   ]
  },
  {
   "cell_type": "code",
   "execution_count": 9,
   "id": "da230e86",
   "metadata": {},
   "outputs": [
    {
     "data": {
      "text/plain": [
       "dtype('int32')"
      ]
     },
     "execution_count": 9,
     "metadata": {},
     "output_type": "execute_result"
    }
   ],
   "source": [
    "instance_x.dtype"
   ]
  },
  {
   "cell_type": "code",
   "execution_count": 10,
   "id": "3cf581d2",
   "metadata": {},
   "outputs": [
    {
     "data": {
      "text/plain": [
       "dtype('float64')"
      ]
     },
     "execution_count": 10,
     "metadata": {},
     "output_type": "execute_result"
    }
   ],
   "source": [
    "(cell_x_id_array * 5.4).dtype"
   ]
  },
  {
   "cell_type": "code",
   "execution_count": 11,
   "id": "3fd0c395",
   "metadata": {},
   "outputs": [
    {
     "data": {
      "text/plain": [
       "array([0, 0, 0, 0, 0, 0, 1, 1, 1, 1, 1, 1, 2, 2, 2, 2, 2, 2, 3, 3, 3, 3,\n",
       "       3, 3, 4, 4, 4, 4, 4, 4, 5, 5, 5, 5, 5, 5, 6, 6, 6, 6, 6, 6, 7, 7,\n",
       "       7, 7, 7, 7, 8, 8, 8, 8, 8, 8, 9, 9, 9, 9, 9, 9])"
      ]
     },
     "execution_count": 11,
     "metadata": {},
     "output_type": "execute_result"
    }
   ],
   "source": [
    "np.repeat(a=np.arange(10), repeats=6)"
   ]
  },
  {
   "cell_type": "code",
   "execution_count": 12,
   "id": "67071d63",
   "metadata": {},
   "outputs": [
    {
     "data": {
      "text/plain": [
       "array([0, 1, 2, 3, 4, 5, 6, 7, 8, 9, 0, 1, 2, 3, 4, 5, 6, 7, 8, 9, 0, 1,\n",
       "       2, 3, 4, 5, 6, 7, 8, 9, 0, 1, 2, 3, 4, 5, 6, 7, 8, 9, 0, 1, 2, 3,\n",
       "       4, 5, 6, 7, 8, 9, 0, 1, 2, 3, 4, 5, 6, 7, 8, 9])"
      ]
     },
     "execution_count": 12,
     "metadata": {},
     "output_type": "execute_result"
    }
   ],
   "source": [
    "np.tile(A=np.arange(10), reps=6)"
   ]
  },
  {
   "cell_type": "code",
   "execution_count": 17,
   "id": "85d535e8",
   "metadata": {},
   "outputs": [
    {
     "name": "stdout",
     "output_type": "stream",
     "text": [
      "[0 1 2 3 4 5 6 7 8 9]\n",
      "[0 0 0 0 0 1 1 1 1 1 2 2 2 2 2 3 3 3 3 3 4 4 4 4 4 5 5 5 5 5 6 6 6 6 6 7 7\n",
      " 7 7 7 8 8 8 8 8 9 9 9 9 9]\n"
     ]
    }
   ],
   "source": [
    "a = np.arange(10)\n",
    "b = a.repeat(5)\n",
    "print(a)\n",
    "print(b)"
   ]
  },
  {
   "cell_type": "code",
   "execution_count": 30,
   "id": "0e464765",
   "metadata": {},
   "outputs": [],
   "source": [
    "a = np.arange(start=0, stop=10)\n",
    "b = np.arange(start=50, stop=60)\n",
    "c = np.arange(start=100, stop=110)"
   ]
  },
  {
   "cell_type": "code",
   "execution_count": 31,
   "id": "0302d536",
   "metadata": {},
   "outputs": [
    {
     "data": {
      "text/plain": [
       "array([[  0,  50, 100],\n",
       "       [  1,  51, 101],\n",
       "       [  2,  52, 102],\n",
       "       [  3,  53, 103],\n",
       "       [  4,  54, 104],\n",
       "       [  5,  55, 105],\n",
       "       [  6,  56, 106],\n",
       "       [  7,  57, 107],\n",
       "       [  8,  58, 108],\n",
       "       [  9,  59, 109]])"
      ]
     },
     "execution_count": 31,
     "metadata": {},
     "output_type": "execute_result"
    }
   ],
   "source": [
    "np.stack(arrays=(a, b, c), axis=-1)"
   ]
  },
  {
   "cell_type": "code",
   "execution_count": 32,
   "id": "fad19771",
   "metadata": {},
   "outputs": [
    {
     "data": {
      "text/plain": [
       "array([[  0,  50, 100],\n",
       "       [  1,  51, 101],\n",
       "       [  2,  52, 102],\n",
       "       [  3,  53, 103],\n",
       "       [  4,  54, 104],\n",
       "       [  5,  55, 105],\n",
       "       [  6,  56, 106],\n",
       "       [  7,  57, 107],\n",
       "       [  8,  58, 108],\n",
       "       [  9,  59, 109]])"
      ]
     },
     "execution_count": 32,
     "metadata": {},
     "output_type": "execute_result"
    }
   ],
   "source": [
    "np.stack(arrays=(a, b, c)).T"
   ]
  },
  {
   "cell_type": "code",
   "execution_count": 33,
   "id": "b66b973a",
   "metadata": {},
   "outputs": [
    {
     "data": {
      "text/plain": [
       "array([[  0,  50, 100],\n",
       "       [  1,  51, 101],\n",
       "       [  2,  52, 102],\n",
       "       [  3,  53, 103],\n",
       "       [  4,  54, 104],\n",
       "       [  5,  55, 105],\n",
       "       [  6,  56, 106],\n",
       "       [  7,  57, 107],\n",
       "       [  8,  58, 108],\n",
       "       [  9,  59, 109]])"
      ]
     },
     "execution_count": 33,
     "metadata": {},
     "output_type": "execute_result"
    }
   ],
   "source": [
    "np.column_stack(tup=(a, b, c))"
   ]
  },
  {
   "cell_type": "code",
   "execution_count": 34,
   "id": "bc6babb1",
   "metadata": {},
   "outputs": [
    {
     "name": "stdout",
     "output_type": "stream",
     "text": [
      "[[  0  50 100]\n",
      " [  1  51 101]\n",
      " [  2  52 102]\n",
      " [  3  53 103]\n",
      " [  4  54 104]\n",
      " [  5  55 105]\n",
      " [  6  56 106]\n",
      " [  7  57 107]\n",
      " [  8  58 108]\n",
      " [  9  59 109]]\n"
     ]
    }
   ],
   "source": [
    "stacked = np.column_stack(tup=(a, b, c))\n",
    "print(stacked)\n",
    "np.savetxt(fname=\"test.txt\", X=stacked, fmt=['%d', '%d', '%.6f'])"
   ]
  },
  {
   "cell_type": "code",
   "execution_count": 38,
   "id": "72571bab",
   "metadata": {},
   "outputs": [
    {
     "name": "stdout",
     "output_type": "stream",
     "text": [
      "[[  0.  50. 100.]\n",
      " [  1.  51. 101.]\n",
      " [  2.  52. 102.]\n",
      " [  3.  53. 103.]\n",
      " [  4.  54. 104.]\n",
      " [  5.  55. 105.]\n",
      " [  6.  56. 106.]\n",
      " [  7.  57. 107.]\n",
      " [  8.  58. 108.]\n",
      " [  9.  59. 109.]]\n"
     ]
    }
   ],
   "source": [
    "a = np.arange(start=0, stop=10)\n",
    "b = np.arange(start=50, stop=60)\n",
    "c = np.arange(start=100, stop=110, dtype=np.float64)\n",
    "stacked = np.column_stack(tup=(a, b, c))\n",
    "print(stacked)\n",
    "np.savetxt(fname=\"test.txt\", X=stacked, fmt=['%d', '%d', '%.6f'])"
   ]
  },
  {
   "cell_type": "code",
   "execution_count": 39,
   "id": "a80d8e72",
   "metadata": {},
   "outputs": [
    {
     "data": {
      "text/plain": [
       "(10, 3)"
      ]
     },
     "execution_count": 39,
     "metadata": {},
     "output_type": "execute_result"
    }
   ],
   "source": [
    "stacked.shapefmt = ' '.join(['%g']*dataMat3.shape[1])"
   ]
  },
  {
   "cell_type": "code",
   "execution_count": 43,
   "id": "ce2b283a",
   "metadata": {},
   "outputs": [
    {
     "data": {
      "text/plain": [
       "'%g %g %g'"
      ]
     },
     "execution_count": 43,
     "metadata": {},
     "output_type": "execute_result"
    }
   ],
   "source": [
    "fmt = ' '.join(['%g']*stacked.shape[1])\n",
    "fmt"
   ]
  },
  {
   "cell_type": "code",
   "execution_count": 54,
   "id": "56d16d6c",
   "metadata": {},
   "outputs": [
    {
     "data": {
      "text/plain": [
       "'%d %d %.6f\\n%d %d %.6f\\n%d %d %.6f\\n%d %d %.6f\\n%d %d %.6f\\n%d %d %.6f\\n%d %d %.6f\\n%d %d %.6f\\n%d %d %.6f\\n%d %d %.6f\\n'"
      ]
     },
     "execution_count": 54,
     "metadata": {},
     "output_type": "execute_result"
    }
   ],
   "source": [
    "fmt = '%d %d %.6f\\n'*stacked.shape[0]\n",
    "fmt"
   ]
  },
  {
   "cell_type": "code",
   "execution_count": 55,
   "id": "f7f95c84",
   "metadata": {},
   "outputs": [
    {
     "data": {
      "text/plain": [
       "'0 50 100.000000\\n1 51 101.000000\\n2 52 102.000000\\n3 53 103.000000\\n4 54 104.000000\\n5 55 105.000000\\n6 56 106.000000\\n7 57 107.000000\\n8 58 108.000000\\n9 59 109.000000\\n'"
      ]
     },
     "execution_count": 55,
     "metadata": {},
     "output_type": "execute_result"
    }
   ],
   "source": [
    "fmt % tuple(stacked.ravel())"
   ]
  },
  {
   "cell_type": "code",
   "execution_count": 52,
   "id": "358d9548",
   "metadata": {},
   "outputs": [
    {
     "data": {
      "text/plain": [
       "['%d %d %.6f',\n",
       " '%d %d %.6f',\n",
       " '%d %d %.6f',\n",
       " '%d %d %.6f',\n",
       " '%d %d %.6f',\n",
       " '%d %d %.6f',\n",
       " '%d %d %.6f',\n",
       " '%d %d %.6f',\n",
       " '%d %d %.6f',\n",
       " '%d %d %.6f']"
      ]
     },
     "execution_count": 52,
     "metadata": {},
     "output_type": "execute_result"
    }
   ],
   "source": [
    "['%d %d %.6f'] * stacked.shape[0]"
   ]
  },
  {
   "cell_type": "code",
   "execution_count": null,
   "id": "a7ba4a29",
   "metadata": {},
   "outputs": [],
   "source": [
    "fmt = ' '.join(['%g']*dataMat3.shape[1])\n",
    "fmt = '\\n'.join([fmt]*dataMat3.shape[0])\n",
    "data = fmt % tuple(dataMat3.ravel())        \n",
    "f.write(data)"
   ]
  }
 ],
 "metadata": {
  "kernelspec": {
   "display_name": "Python 3 (ipykernel)",
   "language": "python",
   "name": "python3"
  },
  "language_info": {
   "codemirror_mode": {
    "name": "ipython",
    "version": 3
   },
   "file_extension": ".py",
   "mimetype": "text/x-python",
   "name": "python",
   "nbconvert_exporter": "python",
   "pygments_lexer": "ipython3",
   "version": "3.9.12"
  }
 },
 "nbformat": 4,
 "nbformat_minor": 5
}
