{
 "cells": [
  {
   "cell_type": "code",
   "execution_count": null,
   "id": "7067ca0b",
   "metadata": {},
   "outputs": [],
   "source": [
    "import numpy as np"
   ]
  },
  {
   "cell_type": "code",
   "execution_count": null,
   "id": "8fc3b2c1",
   "metadata": {},
   "outputs": [],
   "source": [
    "a = np.arange(3)\n",
    "print(len(a))\n",
    "print(a.size)"
   ]
  },
  {
   "cell_type": "code",
   "execution_count": null,
   "id": "8465780e",
   "metadata": {},
   "outputs": [],
   "source": [
    "b = np.zeros(shape=(4, 5), dtype=np.int32)\n",
    "print(len(b))\n",
    "print(b.size)"
   ]
  }
 ],
 "metadata": {
  "kernelspec": {
   "display_name": "Python 3 (ipykernel)",
   "language": "python",
   "name": "python3"
  },
  "language_info": {
   "codemirror_mode": {
    "name": "ipython",
    "version": 3
   },
   "file_extension": ".py",
   "mimetype": "text/x-python",
   "name": "python",
   "nbconvert_exporter": "python",
   "pygments_lexer": "ipython3",
   "version": "3.9.12"
  }
 },
 "nbformat": 4,
 "nbformat_minor": 5
}
